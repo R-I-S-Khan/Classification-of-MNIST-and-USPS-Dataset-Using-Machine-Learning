{
 "cells": [
  {
   "cell_type": "markdown",
   "metadata": {},
   "source": [
    "# Data Preprocessing"
   ]
  },
  {
   "cell_type": "code",
   "execution_count": 2,
   "metadata": {},
   "outputs": [
    {
     "name": "stderr",
     "output_type": "stream",
     "text": [
      "Using TensorFlow backend.\n"
     ]
    }
   ],
   "source": [
    "import keras\n",
    "from keras.datasets import mnist\n",
    "from keras.layers import Dense\n",
    "from keras.models import Sequential\n",
    "from matplotlib import pyplot as plt\n",
    "from random import randint\n",
    "from PIL import Image\n",
    "import os\n",
    "import numpy as np\n",
    "import pandas as pd\n",
    "import numpy as np\n",
    "from sklearn.model_selection import cross_validate\n",
    "from sklearn.ensemble import RandomForestClassifier\n",
    "from sklearn.svm import LinearSVC\n",
    "from sklearn.metrics import confusion_matrix\n",
    "from sklearn.metrics import accuracy_score\n",
    "#from nolearn.dbn import DBN\n",
    "import timeit\n",
    "import seaborn as sn\n",
    "import itertools \n",
    "from sklearn import svm\n",
    "from sklearn import model_selection\n",
    "from sklearn.linear_model import LogisticRegression\n",
    "from sklearn.tree import DecisionTreeClassifier\n",
    "from sklearn.svm import SVC\n",
    "from sklearn.ensemble import VotingClassifier\n",
    "from sklearn.neural_network import MLPClassifier\n"
   ]
  },
  {
   "cell_type": "code",
   "execution_count": 4,
   "metadata": {},
   "outputs": [],
   "source": [
    "# ref:  https://scikit-learn.org/stable/auto_examples/model_selection/plot_confusion_matrix.html\n",
    "def plot_confusion_matrix(cm, classes,\n",
    "                          normalize=False,\n",
    "                          title='Confusion matrix',\n",
    "                          cmap=plt.cm.Blues):\n",
    "    \"\"\"\n",
    "    This function prints and plots the confusion matrix.\n",
    "    Normalization can be applied by setting `normalize=True`.\n",
    "    \"\"\"\n",
    "    if normalize:\n",
    "        cm = cm.astype('float') / cm.sum(axis=1)[:, np.newaxis]\n",
    "        print(\"Normalized confusion matrix\")\n",
    "    else:\n",
    "        print('Confusion matrix, without normalization')\n",
    "\n",
    "    print(cm)\n",
    "\n",
    "    plt.imshow(cm, interpolation='nearest', cmap=cmap)\n",
    "    plt.title(title)\n",
    "    plt.colorbar()\n",
    "    tick_marks = np.arange(len(classes))\n",
    "    plt.xticks(tick_marks, classes, rotation=45)\n",
    "    plt.yticks(tick_marks, classes)\n",
    "\n",
    "    fmt = '.2f' if normalize else 'd'\n",
    "    thresh = cm.max() / 2.\n",
    "    #for i, j in itertools.product(range(cm.shape[0]), range(cm.shape[1])):\n",
    "     #   plt.text(j, i, format(cm[i, j], fmt),\n",
    "      #           horizontalalignment=\"center\",\n",
    "       #          color=\"white\" if cm[i, j] > thresh else \"black\")\n",
    "\n",
    "    plt.ylabel('True label')\n",
    "    plt.xlabel('Predicted label')\n",
    "    plt.tight_layout()\n",
    "\n"
   ]
  },
  {
   "cell_type": "code",
   "execution_count": 29,
   "metadata": {},
   "outputs": [
    {
     "name": "stdout",
     "output_type": "stream",
     "text": [
      "Before flattening lets check out how the data looks\n",
      "type of x_train:  <class 'numpy.ndarray'>\n",
      "x_train:  [[[0 0 0 ..., 0 0 0]\n",
      "  [0 0 0 ..., 0 0 0]\n",
      "  [0 0 0 ..., 0 0 0]\n",
      "  ..., \n",
      "  [0 0 0 ..., 0 0 0]\n",
      "  [0 0 0 ..., 0 0 0]\n",
      "  [0 0 0 ..., 0 0 0]]\n",
      "\n",
      " [[0 0 0 ..., 0 0 0]\n",
      "  [0 0 0 ..., 0 0 0]\n",
      "  [0 0 0 ..., 0 0 0]\n",
      "  ..., \n",
      "  [0 0 0 ..., 0 0 0]\n",
      "  [0 0 0 ..., 0 0 0]\n",
      "  [0 0 0 ..., 0 0 0]]\n",
      "\n",
      " [[0 0 0 ..., 0 0 0]\n",
      "  [0 0 0 ..., 0 0 0]\n",
      "  [0 0 0 ..., 0 0 0]\n",
      "  ..., \n",
      "  [0 0 0 ..., 0 0 0]\n",
      "  [0 0 0 ..., 0 0 0]\n",
      "  [0 0 0 ..., 0 0 0]]\n",
      "\n",
      " ..., \n",
      " [[0 0 0 ..., 0 0 0]\n",
      "  [0 0 0 ..., 0 0 0]\n",
      "  [0 0 0 ..., 0 0 0]\n",
      "  ..., \n",
      "  [0 0 0 ..., 0 0 0]\n",
      "  [0 0 0 ..., 0 0 0]\n",
      "  [0 0 0 ..., 0 0 0]]\n",
      "\n",
      " [[0 0 0 ..., 0 0 0]\n",
      "  [0 0 0 ..., 0 0 0]\n",
      "  [0 0 0 ..., 0 0 0]\n",
      "  ..., \n",
      "  [0 0 0 ..., 0 0 0]\n",
      "  [0 0 0 ..., 0 0 0]\n",
      "  [0 0 0 ..., 0 0 0]]\n",
      "\n",
      " [[0 0 0 ..., 0 0 0]\n",
      "  [0 0 0 ..., 0 0 0]\n",
      "  [0 0 0 ..., 0 0 0]\n",
      "  ..., \n",
      "  [0 0 0 ..., 0 0 0]\n",
      "  [0 0 0 ..., 0 0 0]\n",
      "  [0 0 0 ..., 0 0 0]]]\n",
      "y_train:  [5 0 4 ..., 5 6 8]\n",
      "shape of x_train:  (60000, 28, 28)\n",
      "shape of y_train:  (60000,)\n",
      "shape of x_test:  (10000, 28, 28)\n",
      "shape of y_test:  (10000,)\n",
      "\n",
      "\n",
      "----------After flattening-----------\n",
      "\n",
      "\n",
      "type of x_train:  <class 'numpy.ndarray'>\n",
      "x_train:  [[0 0 0 ..., 0 0 0]\n",
      " [0 0 0 ..., 0 0 0]\n",
      " [0 0 0 ..., 0 0 0]\n",
      " ..., \n",
      " [0 0 0 ..., 0 0 0]\n",
      " [0 0 0 ..., 0 0 0]\n",
      " [0 0 0 ..., 0 0 0]]\n",
      "y_train:  [[ 0.  0.  0. ...,  0.  0.  0.]\n",
      " [ 1.  0.  0. ...,  0.  0.  0.]\n",
      " [ 0.  0.  0. ...,  0.  0.  0.]\n",
      " ..., \n",
      " [ 0.  0.  0. ...,  0.  0.  0.]\n",
      " [ 0.  0.  0. ...,  0.  0.  0.]\n",
      " [ 0.  0.  0. ...,  0.  1.  0.]]\n",
      "shape of x_train:  (60000, 784)\n",
      "shape of y_train:  (60000, 10)\n",
      "shape of x_test:  (10000, 784)\n",
      "shape of y_test:  (10000, 10)\n"
     ]
    }
   ],
   "source": [
    "\n",
    "# Loading training and testing data, validation data to be made during training.\n",
    "\n",
    "(x_train, y_train), (x_test, y_test) = mnist.load_data()\n",
    "\n",
    "print('Before flattening lets check out how the data looks')\n",
    "print('type of x_train: ',type(x_train))\n",
    "print('x_train: ',x_train)\n",
    "print('y_train: ',y_train)\n",
    "print('shape of x_train: ',x_train.shape)\n",
    "print('shape of y_train: ',y_train.shape)\n",
    "\n",
    "print('shape of x_test: ',x_test.shape)\n",
    "print('shape of y_test: ',y_test.shape)\n",
    "\n",
    "\n",
    "image_size = 784 # 28 x 28\n",
    "x_train = x_train.reshape(x_train.shape[0], image_size) \n",
    "x_test = x_test.reshape(x_test.shape[0], image_size)\n",
    "\n",
    "# Converting class vectors to binary class matrices\n",
    "num_classes = 10\n",
    "y_train = keras.utils.to_categorical(y_train, num_classes)\n",
    "y_test = keras.utils.to_categorical(y_test, num_classes)\n",
    "\n",
    "print('\\n\\n----------After flattening-----------\\n\\n')\n",
    "print('type of x_train: ',type(x_train))\n",
    "print('x_train: ',x_train)\n",
    "print('y_train: ',y_train)\n",
    "print('shape of x_train: ',x_train.shape)\n",
    "print('shape of y_train: ',y_train.shape)\n",
    "\n",
    "print('shape of x_test: ',x_test.shape)\n",
    "print('shape of y_test: ',y_test.shape)\n",
    "\n",
    "# ref: https://medium.freecodecamp.org/how-to-classify-mnist-digits-with-different-neural-network-architectures-39c75a0f03e3\n"
   ]
  },
  {
   "cell_type": "markdown",
   "metadata": {},
   "source": [
    "# Multilayer Perceptron Neural Network"
   ]
  },
  {
   "cell_type": "code",
   "execution_count": 4,
   "metadata": {},
   "outputs": [
    {
     "name": "stdout",
     "output_type": "stream",
     "text": [
      "_________________________________________________________________\n",
      "Layer (type)                 Output Shape              Param #   \n",
      "=================================================================\n",
      "dense_1 (Dense)              (None, 1024)              803840    \n",
      "_________________________________________________________________\n",
      "dense_2 (Dense)              (None, 512)               524800    \n",
      "_________________________________________________________________\n",
      "dense_3 (Dense)              (None, 128)               65664     \n",
      "_________________________________________________________________\n",
      "dense_4 (Dense)              (None, 10)                1290      \n",
      "=================================================================\n",
      "Total params: 1,395,594\n",
      "Trainable params: 1,395,594\n",
      "Non-trainable params: 0\n",
      "_________________________________________________________________\n"
     ]
    }
   ],
   "source": [
    "model = Sequential()\n",
    "\n",
    "\n",
    "# We need to specify the input shape of the input layer so that it matches the shape of our training data.\n",
    "#model.add(Dense(units=2048, activation='sigmoid', input_shape=(image_size,)))\n",
    "model.add(Dense(units=1024, activation='relu', input_shape=(image_size,)))\n",
    "model.add(Dense(units=512, activation='sigmoid', input_shape=(image_size,)))\n",
    "model.add(Dense(units=128, activation='relu', input_shape=(image_size,)))\n",
    "\n",
    "model.add(Dense(units=num_classes, activation='softmax'))\n",
    "model.summary()"
   ]
  },
  {
   "cell_type": "code",
   "execution_count": 26,
   "metadata": {},
   "outputs": [
    {
     "data": {
      "image/png": "[encoded data removed]",
      "text/plain": [
       "<matplotlib.figure.Figure at 0x20b01d7c940>"
      ]
     },
     "metadata": {},
     "output_type": "display_data"
    },
    {
     "name": "stdout",
     "output_type": "stream",
     "text": [
      "Test loss: 0.1104\n",
      "Test accuracy: 0.966\n"
     ]
    }
   ],
   "source": [
    "model.compile(optimizer=\"sgd\", loss='categorical_crossentropy', metrics=['accuracy'])\n",
    "m_fit = model.fit(x_train, y_train, batch_size=32, epochs=5,verbose=False, validation_split=.1)\n",
    "loss, accuracy  = model.evaluate(x_test, y_test, verbose=False)\n",
    "\n",
    "plt.plot(m_fit.history['acc'])\n",
    "plt.plot(m_fit.history['val_acc'])\n",
    "plt.title('model accuracy')\n",
    "plt.xlabel('epochs')\n",
    "plt.ylabel('model_accuracy')\n",
    "plt.legend(['training', 'validation'], loc='best')\n",
    "plt.show()\n",
    "\n",
    "print(f'Test loss: {loss:.4}')\n",
    "print(f'Test accuracy: {accuracy:.4}')"
   ]
  },
  {
   "cell_type": "code",
   "execution_count": 39,
   "metadata": {},
   "outputs": [],
   "source": [
    "# Loading training and testing data for confusion matrix\n",
    "(x_train, y_train), (x_test, y_test) = mnist.load_data()\n",
    "image_size = 784 # 28 x 28\n",
    "x_train = x_train.reshape(x_train.shape[0], image_size) \n",
    "x_test = x_test.reshape(x_test.shape[0], image_size)\n"
   ]
  },
  {
   "cell_type": "code",
   "execution_count": 46,
   "metadata": {},
   "outputs": [],
   "source": [
    "nn_y_pred = model.predict(x_test)"
   ]
  },
  {
   "cell_type": "code",
   "execution_count": 3,
   "metadata": {},
   "outputs": [],
   "source": [
    "\n",
    "#ref:  https://jovianlin.io/keras-one-hot-encode-decode-sequence-data/\n",
    "#decoded_nn_y_test = []\n",
    "def decode(datum):\n",
    "    return np.argmax(datum)\n",
    "\n",
    "\n",
    "\n",
    "decoded_nn_mnist_y_pred = []\n",
    "\n",
    "for i in range(nn_y_pred.shape[0]):\n",
    "    datum = nn_y_pred[i]\n",
    "    decoded_datum = decode(nn_y_pred[i])\n",
    "    decoded_nn_mnist_y_pred.append(decoded_datum)\n"
   ]
  },
  {
   "cell_type": "code",
   "execution_count": 4,
   "metadata": {},
   "outputs": [],
   "source": [
    "decoded_nn_mnist_y_pred = np.array(decoded_nn_mnist_y_pred)"
   ]
  },
  {
   "cell_type": "code",
   "execution_count": null,
   "metadata": {},
   "outputs": [],
   "source": [
    "#run this cell to get the confusion matrix. I already obtained it from another cell. \n",
    "#This cell has been made to maintain a order of sequence.\n",
    "\n",
    "# Compute confusion matrix\n",
    "cnf_matrix = confusion_matrix(y_test, decoded_nn_mnist_y_pred)\n",
    "np.set_printoptions(precision=2)\n",
    "\n",
    "# Plot non-normalized confusion matrix\n",
    "plt.figure()\n",
    "plot_confusion_matrix(cnf_matrix, classes= [0,1,2,3,4,5,6,7,8,9] )\n",
    "\n",
    "plt.show()"
   ]
  },
  {
   "cell_type": "code",
   "execution_count": 45,
   "metadata": {},
   "outputs": [
    {
     "name": "stdout",
     "output_type": "stream",
     "text": [
      "Confusion matrix, without normalization\n",
      "[[ 972    0    1    2    0    1    2    1    1    0]\n",
      " [   0 1120    2    1    0    1    3    1    7    0]\n",
      " [  11    4  987    4    1    3    4    5   12    1]\n",
      " [   2    0    9  954    0   23    0    6   11    5]\n",
      " [   1    0    4    0  947    0    9    1    4   16]\n",
      " [   4    1    0    8    2  863    6    1    4    3]\n",
      " [  12    3    0    0    5    9  926    0    3    0]\n",
      " [   1    7   10    2    1    0    0  995    2   10]\n",
      " [   6    2    1    4    6   10    5    4  930    6]\n",
      " [   3    4    1    5   15    3    1    5    6  966]]\n"
     ]
    },
    {
     "data": {
      "image/png": "[encoded data removed]",
      "text/plain": [
       "<matplotlib.figure.Figure at 0x20b05ae1860>"
      ]
     },
     "metadata": {},
     "output_type": "display_data"
    }
   ],
   "source": [
    "\n",
    "# Compute confusion matrix\n",
    "cnf_matrix = confusion_matrix(y_test, nn_y_pred)\n",
    "np.set_printoptions(precision=2)\n",
    "\n",
    "# Plot non-normalized confusion matrix\n",
    "plt.figure()\n",
    "plot_confusion_matrix(cnf_matrix, classes= [0,1,2,3,4,5,6,7,8,9] )\n",
    "\n",
    " #Plot normalized confusion matrix\n",
    "#plt.figure()\n",
    "#plot_confusion_matrix(cnf_matrix, classes= [0,1,2,3,4,5,6,7,8,9], normalize=True,\n",
    " #                     title='Normalized confusion matrix')\n",
    "\n",
    "plt.show()"
   ]
  },
  {
   "cell_type": "code",
   "execution_count": 40,
   "metadata": {},
   "outputs": [],
   "source": [
    "USPSMat  = []\n",
    "USPSTar  = []\n",
    "curPath  = r'C:\\Users\\riskh\\CSE474\\Project3\\USPSdata\\USPSdata\\Numerals'\n",
    "savedImg = []\n",
    "\n",
    "for j in range(0,10):\n",
    "    curFolderPath = curPath + '\\\\' + str(j) \n",
    "    imgs =  os.listdir(curFolderPath)\n",
    "    for img in imgs:\n",
    "        curImg = curFolderPath + '\\\\' + img\n",
    "        if curImg[-3:] == 'png':\n",
    "            img = Image.open(curImg,'r')\n",
    "            img = img.resize((28, 28))\n",
    "            savedImg = img\n",
    "            imgdata = (255-np.array(img.getdata()))/255\n",
    "            USPSMat.append(imgdata)\n",
    "            USPSTar.append(j)"
   ]
  },
  {
   "cell_type": "code",
   "execution_count": 41,
   "metadata": {},
   "outputs": [],
   "source": [
    "USPSMat = np.array(USPSMat)\n",
    "USPSTar = np.array(USPSTar)"
   ]
  },
  {
   "cell_type": "code",
   "execution_count": 42,
   "metadata": {},
   "outputs": [
    {
     "name": "stdout",
     "output_type": "stream",
     "text": [
      "(19999, 784)\n",
      "(19999,)\n"
     ]
    }
   ],
   "source": [
    "print(USPSMat.shape)\n",
    "print(USPSTar.shape)"
   ]
  },
  {
   "cell_type": "code",
   "execution_count": 33,
   "metadata": {},
   "outputs": [],
   "source": [
    "USPSTar = keras.utils.to_categorical(USPSTar, num_classes)"
   ]
  },
  {
   "cell_type": "code",
   "execution_count": 34,
   "metadata": {},
   "outputs": [
    {
     "name": "stdout",
     "output_type": "stream",
     "text": [
      "(19999, 784)\n",
      "(19999, 10)\n"
     ]
    }
   ],
   "source": [
    "print(USPSMat.shape)\n",
    "print(USPSTar.shape)"
   ]
  },
  {
   "cell_type": "code",
   "execution_count": 136,
   "metadata": {},
   "outputs": [],
   "source": [
    "USloss, USaccuracy  = model.evaluate(USPSMat, USPSTar, verbose=False)\n"
   ]
  },
  {
   "cell_type": "code",
   "execution_count": 137,
   "metadata": {},
   "outputs": [
    {
     "name": "stdout",
     "output_type": "stream",
     "text": [
      "Loss is USPS dataset:  2.3685310526\n",
      "Accuracy in prediction in USPS dataset:  0.218810940547\n"
     ]
    }
   ],
   "source": [
    "print('Loss is USPS dataset: ',USloss)\n",
    "print('Accuracy in prediction in USPS dataset: ',USaccuracy)"
   ]
  },
  {
   "cell_type": "code",
   "execution_count": 138,
   "metadata": {},
   "outputs": [],
   "source": [
    "nn_us_y_pred = model.predict(USPSMat)"
   ]
  },
  {
   "cell_type": "code",
   "execution_count": 139,
   "metadata": {},
   "outputs": [
    {
     "data": {
      "text/plain": [
       "(19999, 10)"
      ]
     },
     "execution_count": 139,
     "metadata": {},
     "output_type": "execute_result"
    }
   ],
   "source": [
    "nn_us_y_pred.shape"
   ]
  },
  {
   "cell_type": "code",
   "execution_count": 144,
   "metadata": {},
   "outputs": [
    {
     "data": {
      "text/plain": [
       "array([ 0.03,  0.14,  0.11,  0.02,  0.05,  0.46,  0.01,  0.13,  0.01,  0.04], dtype=float32)"
      ]
     },
     "execution_count": 144,
     "metadata": {},
     "output_type": "execute_result"
    }
   ],
   "source": [
    "nn_us_y_pred[1]"
   ]
  },
  {
   "cell_type": "code",
   "execution_count": 143,
   "metadata": {},
   "outputs": [
    {
     "data": {
      "text/plain": [
       "array([ 1.,  0.,  0.,  0.,  0.,  0.,  0.,  0.,  0.,  0.], dtype=float32)"
      ]
     },
     "execution_count": 143,
     "metadata": {},
     "output_type": "execute_result"
    }
   ],
   "source": [
    "USPSTar[1]"
   ]
  },
  {
   "cell_type": "code",
   "execution_count": 145,
   "metadata": {},
   "outputs": [],
   "source": [
    "#ref:  https://jovianlin.io/keras-one-hot-encode-decode-sequence-data/\n",
    "decoded_USPSTar = []\n",
    "def decode(datum):\n",
    "    return np.argmax(datum)\n",
    "\n",
    "for i in range(USPSTar.shape[0]):\n",
    "    datum = USPSTar[i]\n",
    "    decoded_datum = decode(USPSTar[i])\n",
    "    decoded_USPSTar.append(decoded_datum)"
   ]
  },
  {
   "cell_type": "code",
   "execution_count": 146,
   "metadata": {},
   "outputs": [],
   "source": [
    "decoded_nn_us_y_pred = []\n",
    "\n",
    "for i in range(nn_us_y_pred.shape[0]):\n",
    "    datum = nn_us_y_pred[i]\n",
    "    decoded_datum = decode(nn_us_y_pred[i])\n",
    "    decoded_nn_us_y_pred.append(decoded_datum)"
   ]
  },
  {
   "cell_type": "code",
   "execution_count": 149,
   "metadata": {},
   "outputs": [],
   "source": [
    "decoded_USPSTar = np.array(decoded_USPSTar)\n",
    "decoded_nn_us_y_pred = np.array(decoded_nn_us_y_pred)"
   ]
  },
  {
   "cell_type": "code",
   "execution_count": 150,
   "metadata": {},
   "outputs": [
    {
     "data": {
      "text/plain": [
       "(19999,)"
      ]
     },
     "execution_count": 150,
     "metadata": {},
     "output_type": "execute_result"
    }
   ],
   "source": [
    "decoded_USPSTar.shape"
   ]
  },
  {
   "cell_type": "code",
   "execution_count": 151,
   "metadata": {},
   "outputs": [
    {
     "data": {
      "text/plain": [
       "(19999,)"
      ]
     },
     "execution_count": 151,
     "metadata": {},
     "output_type": "execute_result"
    }
   ],
   "source": [
    "decoded_nn_us_y_pred.shape"
   ]
  },
  {
   "cell_type": "code",
   "execution_count": 153,
   "metadata": {},
   "outputs": [
    {
     "data": {
      "text/plain": [
       "numpy.int64"
      ]
     },
     "execution_count": 153,
     "metadata": {},
     "output_type": "execute_result"
    }
   ],
   "source": [
    "type(decoded_USPSTar[1])"
   ]
  },
  {
   "cell_type": "code",
   "execution_count": 154,
   "metadata": {},
   "outputs": [
    {
     "data": {
      "text/plain": [
       "numpy.int64"
      ]
     },
     "execution_count": 154,
     "metadata": {},
     "output_type": "execute_result"
    }
   ],
   "source": [
    "type(decoded_nn_us_y_pred[1])"
   ]
  },
  {
   "cell_type": "code",
   "execution_count": 155,
   "metadata": {},
   "outputs": [
    {
     "name": "stdout",
     "output_type": "stream",
     "text": [
      "Confusion matrix, without normalization\n",
      "[[ 125  769  591    0   12  400    0   40    0   63]\n",
      " [   0 1737  131    0    0   62    0   70    0    0]\n",
      " [   0 1000  879    0    0  119    0    1    0    0]\n",
      " [   0 1251  172   46    0  525    0    6    0    0]\n",
      " [   2 1518   97    0   98  189    0   91    0    5]\n",
      " [   0  546   91    0    1 1359    0    3    0    0]\n",
      " [   4 1322  276    0    3  390    1    4    0    0]\n",
      " [   0 1645  117    0    0  117    0  121    0    0]\n",
      " [   1 1300   90    0    0  598    0   11    0    0]\n",
      " [   0 1555  146    2    1  129    0  157    0   10]]\n"
     ]
    },
    {
     "data": {
      "image/png": "[encoded data removed]",
      "text/plain": [
       "<matplotlib.figure.Figure at 0x20b6a0ee8d0>"
      ]
     },
     "metadata": {},
     "output_type": "display_data"
    }
   ],
   "source": [
    "# Compute confusion matrix\n",
    "cnf_matrix = confusion_matrix(decoded_USPSTar, decoded_nn_us_y_pred)\n",
    "np.set_printoptions(precision=2)\n",
    "\n",
    "# Plot non-normalized confusion matrix\n",
    "\n",
    "plot_confusion_matrix(cnf_matrix, classes= [0,1,2,3,4,5,6,7,8,9] )\n",
    "\n",
    "plt.show()"
   ]
  },
  {
   "cell_type": "markdown",
   "metadata": {},
   "source": [
    "# Preprocessing data for SVM and Random Forest"
   ]
  },
  {
   "cell_type": "code",
   "execution_count": 12,
   "metadata": {},
   "outputs": [
    {
     "name": "stdout",
     "output_type": "stream",
     "text": [
      "--------------PreProcessing of MNIST Data---------------\n",
      "Before flattening lets check out how the data looks\n",
      "type of x_train:  <class 'numpy.ndarray'>\n",
      "shape of x_train:  (60000, 28, 28)\n",
      "shape of y_train:  (60000,)\n",
      "shape of x_test:  (10000, 28, 28)\n",
      "shape of y_test:  (10000,)\n",
      "\n",
      "\n",
      "----------After flattening-----------\n",
      "\n",
      "\n",
      "type of x_train:  <class 'numpy.ndarray'>\n",
      "shape of x_train:  (60000, 784)\n",
      "shape of y_train:  (60000,)\n",
      "shape of x_test:  (10000, 784)\n",
      "shape of y_test:  (10000,)\n"
     ]
    }
   ],
   "source": [
    "# Loading training and testing data, validation data to be made during training.\n",
    "(x_train, y_train), (x_test, y_test) = mnist.load_data()\n",
    "\n",
    "print('--------------PreProcessing of MNIST Data---------------')\n",
    "print('Before flattening lets check out how the data looks')\n",
    "print('type of x_train: ',type(x_train))\n",
    "#print('x_train: ',x_train)\n",
    "#print('y_train: ',y_train)\n",
    "print('shape of x_train: ',x_train.shape)\n",
    "print('shape of y_train: ',y_train.shape)\n",
    "\n",
    "print('shape of x_test: ',x_test.shape)\n",
    "print('shape of y_test: ',y_test.shape)\n",
    "\n",
    "\n",
    "image_size = 784 # 28 x 28\n",
    "x_train = x_train.reshape(x_train.shape[0], image_size) \n",
    "x_test = x_test.reshape(x_test.shape[0], image_size)\n",
    "\n",
    "# Converting class vectors to binary class matrices\n",
    "\n",
    "num_classes = 10\n",
    "#y_train = keras.utils.to_categorical(y_train, num_classes)\n",
    "#y_test = keras.utils.to_categorical(y_test, num_classes)\n",
    "\n",
    "print('\\n\\n----------After flattening-----------\\n\\n')\n",
    "print('type of x_train: ',type(x_train))\n",
    "#print('x_train: ',x_train)\n",
    "#print('y_train: ',y_train)\n",
    "print('shape of x_train: ',x_train.shape)\n",
    "print('shape of y_train: ',y_train.shape)\n",
    "\n",
    "print('shape of x_test: ',x_test.shape)\n",
    "print('shape of y_test: ',y_test.shape)\n"
   ]
  },
  {
   "cell_type": "code",
   "execution_count": 27,
   "metadata": {},
   "outputs": [
    {
     "name": "stdout",
     "output_type": "stream",
     "text": [
      "-----After Preprocessing of USPS Data--------\n",
      "Shape of Test(USPSMat): (19999, 784)\n",
      "Shape of Target(USPSTar): (19999,)\n"
     ]
    }
   ],
   "source": [
    "USPSMat  = []\n",
    "USPSTar  = []\n",
    "curPath  = r'C:\\Users\\riskh\\CSE474\\Project3\\USPSdata\\USPSdata\\Numerals'\n",
    "savedImg = []\n",
    "\n",
    "for j in range(0,10):\n",
    "    curFolderPath = curPath + '\\\\' + str(j) \n",
    "    imgs =  os.listdir(curFolderPath)\n",
    "    for img in imgs:\n",
    "        curImg = curFolderPath + '\\\\' + img\n",
    "        if curImg[-3:] == 'png':\n",
    "            img = Image.open(curImg,'r')\n",
    "            img = img.resize((28, 28))\n",
    "            savedImg = img\n",
    "            imgdata = (255-np.array(img.getdata()))/255\n",
    "            USPSMat.append(imgdata)\n",
    "            USPSTar.append(j)\n",
    "            \n",
    "USPSMat = np.array(USPSMat)\n",
    "USPSTar = np.array(USPSTar)\n",
    "print('-----After Preprocessing of USPS Data--------')\n",
    "print(\"Shape of Test(USPSMat):\",USPSMat.shape)\n",
    "print(\"Shape of Target(USPSTar):\",USPSTar.shape)"
   ]
  },
  {
   "cell_type": "markdown",
   "metadata": {},
   "source": [
    "# Support Vector Machine"
   ]
  },
  {
   "cell_type": "code",
   "execution_count": 158,
   "metadata": {},
   "outputs": [
    {
     "name": "stdout",
     "output_type": "stream",
     "text": [
      "Linear SVM accuracy for MNIST data:  0.8538\n"
     ]
    },
    {
     "name": "stderr",
     "output_type": "stream",
     "text": [
      "C:\\Users\\riskh\\Anaconda3\\lib\\site-packages\\sklearn\\svm\\base.py:922: ConvergenceWarning: Liblinear failed to converge, increase the number of iterations.\n",
      "  \"the number of iterations.\", ConvergenceWarning)\n"
     ]
    }
   ],
   "source": [
    "svm_model = LinearSVC()\n",
    "svm_model.fit(x_train, y_train)\n",
    "svm_y_pred = svm_model.predict(x_test)\n",
    "mnist_svm_acc = accuracy_score(y_test, svm_y_pred)\n",
    "print (\"Linear SVM accuracy for MNIST data: \",mnist_svm_acc)"
   ]
  },
  {
   "cell_type": "code",
   "execution_count": 159,
   "metadata": {},
   "outputs": [
    {
     "name": "stdout",
     "output_type": "stream",
     "text": [
      "Linear SVM accuracy for USPS data:  0.123756187809\n"
     ]
    }
   ],
   "source": [
    "svm_us_y_pred = svm_model.predict(USPSMat)\n",
    "usps_svm_acc = accuracy_score(USPSTar, svm_us_y_pred)\n",
    "print (\"Linear SVM accuracy for USPS data: \",usps_svm_acc)"
   ]
  },
  {
   "cell_type": "code",
   "execution_count": 160,
   "metadata": {},
   "outputs": [
    {
     "name": "stdout",
     "output_type": "stream",
     "text": [
      "Confusion matrix, without normalization\n",
      "[[ 928    0    3    3    5    8   11    4   16    2]\n",
      " [   0 1077    2    2    0    0    4    2   47    1]\n",
      " [   6    7  749   47   37    4   13   13  154    2]\n",
      " [   6    2   18  853    8   13    4   13   84    9]\n",
      " [   1    1    6    0  921    0    3    2   18   30]\n",
      " [  12    4    3   50   35  581   18   18  150   21]\n",
      " [   8    3    6    1   27   15  843    1   54    0]\n",
      " [   0    4    9    6   19    0    1  877   21   91]\n",
      " [  10    6    4   20   21   12    6    5  872   18]\n",
      " [   3   12    1    7   86    2    0   22   39  837]]\n"
     ]
    },
    {
     "data": {
      "image/png": "[encoded data removed]",
      "text/plain": [
       "<matplotlib.figure.Figure at 0x20b0211e978>"
      ]
     },
     "metadata": {},
     "output_type": "display_data"
    }
   ],
   "source": [
    "# Compute confusion matrix\n",
    "cnf_matrix = confusion_matrix(y_test, svm_y_pred)\n",
    "np.set_printoptions(precision=2)\n",
    "\n",
    "# Plot non-normalized confusion matrix\n",
    "plt.figure()\n",
    "plot_confusion_matrix(cnf_matrix, classes= [0,1,2,3,4,5,6,7,8,9] )\n",
    "\n",
    " #Plot normalized confusion matrix\n",
    "#plt.figure()\n",
    "#plot_confusion_matrix(cnf_matrix, classes= [0,1,2,3,4,5,6,7,8,9], normalize=True,\n",
    " #                     title='Normalized confusion matrix')\n",
    "\n",
    "plt.show()"
   ]
  },
  {
   "cell_type": "code",
   "execution_count": 161,
   "metadata": {},
   "outputs": [
    {
     "name": "stdout",
     "output_type": "stream",
     "text": [
      "Confusion matrix, without normalization\n",
      "[[  20   51    0    0    0 1414    0  515    0    0]\n",
      " [   0  404    0    0    0 1570    0   26    0    0]\n",
      " [   5  228    0    0    0 1730    0   36    0    0]\n",
      " [   5  167    0    0    0 1787    0   41    0    0]\n",
      " [   3  189    0    0    6 1534    0  268    0    0]\n",
      " [   3  144    0    0    0 1755    0   98    0    0]\n",
      " [   3   94    0    0    1 1820    3   79    0    0]\n",
      " [   3  340    0    0    0 1370    0  287    0    0]\n",
      " [   0   96    0    0    1 1694    0  209    0    0]\n",
      " [   4  240    0    0    2 1233    0  521    0    0]]\n"
     ]
    },
    {
     "data": {
      "image/png": "[encoded data removed]",
      "text/plain": [
       "<matplotlib.figure.Figure at 0x20b0011c4e0>"
      ]
     },
     "metadata": {},
     "output_type": "display_data"
    }
   ],
   "source": [
    "# Compute confusion matrix\n",
    "cnf_matrix = confusion_matrix(USPSTar, svm_us_y_pred)\n",
    "np.set_printoptions(precision=2)\n",
    "\n",
    "# Plot non-normalized confusion matrix\n",
    "#plt.figure()\n",
    "plot_confusion_matrix(cnf_matrix, classes= [0,1,2,3,4,5,6,7,8,9] )\n",
    "\n",
    " #Plot normalized confusion matrix\n",
    "#plt.figure()\n",
    "#plot_confusion_matrix(cnf_matrix, classes= [0,1,2,3,4,5,6,7,8,9], normalize=True,\n",
    " #                     title='Normalized confusion matrix')\n",
    "\n",
    "plt.show()"
   ]
  },
  {
   "cell_type": "code",
   "execution_count": 17,
   "metadata": {},
   "outputs": [
    {
     "name": "stdout",
     "output_type": "stream",
     "text": [
      "SVM(Gamma = 1) accuracy for MNIST data: 0.1135\n"
     ]
    }
   ],
   "source": [
    "gamma_svm_model = svm.SVC(gamma=1)\n",
    "gamma_svm_model.fit(x_train,y_train)\n",
    "gamma_svm_y_pred = gamma_svm_model.predict(x_test)\n",
    "mnist_gamma_svm_acc = accuracy_score(y_test, gamma_svm_y_pred)\n",
    "print (\"SVM(Gamma = 1) accuracy for MNIST data: \",mnist_gamma_svm_acc)"
   ]
  },
  {
   "cell_type": "code",
   "execution_count": 18,
   "metadata": {},
   "outputs": [
    {
     "name": "stdout",
     "output_type": "stream",
     "text": [
      "SVM(Gamma = 1) accuracy for USPS data: 0.10000500025\n"
     ]
    }
   ],
   "source": [
    "gamma_svm_us_y_pred = gamma_svm_model.predict(USPSMat)\n",
    "gamma_usps_svm_acc = accuracy_score(USPSTar, gamma_svm_us_y_pred)\n",
    "print (\"SVM(Gamma = 1) accuracy for USPS data: \",gamma_usps_svm_acc)"
   ]
  },
  {
   "cell_type": "code",
   "execution_count": 19,
   "metadata": {},
   "outputs": [],
   "source": [
    "gamma_svm_y_pred_train = gamma_svm_model.predict(x_train)\n",
    "mnist_gamma_svm_acc_train = accuracy_score(y_train, gamma_svm_y_pred_train)"
   ]
  },
  {
   "cell_type": "code",
   "execution_count": 20,
   "metadata": {},
   "outputs": [
    {
     "name": "stdout",
     "output_type": "stream",
     "text": [
      "SVM(Gamma = 1) validation accuracy for MNIST Train data: 1.0\n"
     ]
    }
   ],
   "source": [
    "print (\"SVM(Gamma = 1) validation accuracy for MNIST Train data: \",mnist_gamma_svm_acc_train )"
   ]
  },
  {
   "cell_type": "code",
   "execution_count": null,
   "metadata": {},
   "outputs": [],
   "source": [
    "#Run the following three cells to observe the confusion matrix when gamma=1. \n",
    "#I used the same cell to get the confusion matrix and took a snap of the confusion matrix for my report.\n",
    "# Compute confusion matrix\n",
    "print('\\nConfusion Matrix of MNIST Train data(Gamma = 1)\\n')\n",
    "cnf_matrix = confusion_matrix(y_train, gamma_svm_y_pred_train)\n",
    "np.set_printoptions(precision=2)\n",
    "\n",
    "# Plot non-normalized confusion matrix\n",
    "plt.figure()\n",
    "plot_confusion_matrix(cnf_matrix, classes= [0,1,2,3,4,5,6,7,8,9] )\n",
    "\n",
    "\n",
    "plt.show()"
   ]
  },
  {
   "cell_type": "code",
   "execution_count": null,
   "metadata": {},
   "outputs": [],
   "source": [
    "# Compute confusion matrix\n",
    "print('\\nConfusion Matrix of MNIST Test data(Gamma = 1)\\n')\n",
    "cnf_matrix = confusion_matrix(y_test, gamma_svm_y_pred)\n",
    "np.set_printoptions(precision=2)\n",
    "\n",
    "# Plot non-normalized confusion matrix\n",
    "plt.figure()\n",
    "plot_confusion_matrix(cnf_matrix, classes= [0,1,2,3,4,5,6,7,8,9] )\n",
    "\n",
    "\n",
    "plt.show()"
   ]
  },
  {
   "cell_type": "code",
   "execution_count": null,
   "metadata": {},
   "outputs": [],
   "source": [
    "# Compute confusion matrix\n",
    "print('\\nConfusion Matrix of USPS Test data(Gamma = 1)\\n')\n",
    "cnf_matrix = confusion_matrix(USPSTar, gamma_svm_us_y_pred)\n",
    "np.set_printoptions(precision=2)\n",
    "\n",
    "# Plot non-normalized confusion matrix\n",
    "plt.figure()\n",
    "plot_confusion_matrix(cnf_matrix, classes= [0,1,2,3,4,5,6,7,8,9] )\n",
    "\n",
    "\n",
    "plt.show()"
   ]
  },
  {
   "cell_type": "code",
   "execution_count": 21,
   "metadata": {},
   "outputs": [
    {
     "name": "stdout",
     "output_type": "stream",
     "text": [
      "SVM(Gamma = default) accuracy for MNIST data: 0.1135\n"
     ]
    }
   ],
   "source": [
    "ngamma_svm_model = svm.SVC()\n",
    "ngamma_svm_model.fit(x_train,y_train)\n",
    "ngamma_svm_y_pred = ngamma_svm_model.predict(x_test)\n",
    "mnist_ngamma_svm_acc = accuracy_score(y_test, ngamma_svm_y_pred)\n",
    "print (\"SVM(Gamma = default) accuracy for MNIST data: \",mnist_ngamma_svm_acc)"
   ]
  },
  {
   "cell_type": "code",
   "execution_count": 22,
   "metadata": {},
   "outputs": [
    {
     "name": "stdout",
     "output_type": "stream",
     "text": [
      "SVM accuracy for USPS data: 0.10000500025\n"
     ]
    }
   ],
   "source": [
    "ngamma_svm_us_y_pred = ngamma_svm_model.predict(USPSMat)\n",
    "ngamma_usps_svm_acc = accuracy_score(USPSTar, ngamma_svm_us_y_pred)\n",
    "print (\"SVM accuracy for USPS data: \",ngamma_usps_svm_acc)"
   ]
  },
  {
   "cell_type": "code",
   "execution_count": 23,
   "metadata": {},
   "outputs": [],
   "source": [
    "ngamma_svm_y_pred_train = ngamma_svm_model.predict(x_train)\n",
    "mnist_ngamma_svm_acc_train = accuracy_score(y_train, ngamma_svm_y_pred_train)"
   ]
  },
  {
   "cell_type": "code",
   "execution_count": 24,
   "metadata": {},
   "outputs": [
    {
     "name": "stdout",
     "output_type": "stream",
     "text": [
      "SVM(Gamma = default) validation accuracy for MNIST Train data: 1.0\n"
     ]
    }
   ],
   "source": [
    "print (\"SVM(Gamma = default) validation accuracy for MNIST Train data: \",mnist_gamma_svm_acc_train )"
   ]
  },
  {
   "cell_type": "markdown",
   "metadata": {},
   "source": [
    "# Random Forest"
   ]
  },
  {
   "cell_type": "code",
   "execution_count": 8,
   "metadata": {},
   "outputs": [
    {
     "name": "stdout",
     "output_type": "stream",
     "text": [
      "Random forest accuracy on MNIST data:  0.9719\n"
     ]
    }
   ],
   "source": [
    "rf_model = RandomForestClassifier(n_jobs=-1, n_estimators=2000)\n",
    "rf_model.fit(x_train, y_train)\n",
    "rf_y_pred = rf_model.predict(x_test)\n",
    "mnist_rf_acc = accuracy_score(y_test, rf_y_pred)\n",
    "print (\"Random forest accuracy on MNIST data: \",mnist_rf_acc)"
   ]
  },
  {
   "cell_type": "code",
   "execution_count": 55,
   "metadata": {},
   "outputs": [
    {
     "name": "stdout",
     "output_type": "stream",
     "text": [
      "Confusion matrix, without normalization\n",
      "[[ 970    0    0    0    0    2    2    1    4    1]\n",
      " [   0 1124    2    3    0    2    2    0    1    1]\n",
      " [   6    0  999    6    3    0    4    8    6    0]\n",
      " [   0    0    9  976    0    5    0    9    9    2]\n",
      " [   1    0    1    0  958    0    5    0    2   15]\n",
      " [   3    0    0   11    3  862    6    2    4    1]\n",
      " [   7    3    0    0    2    3  940    0    3    0]\n",
      " [   1    2   18    1    1    0    0  992    1   12]\n",
      " [   4    0    6    7    2    5    3    4  934    9]\n",
      " [   5    5    2    9   10    3    1    5    5  964]]\n"
     ]
    },
    {
     "data": {
      "image/png": "[encoded data removed]",
      "text/plain": [
       "<matplotlib.figure.Figure at 0x28264667198>"
      ]
     },
     "metadata": {},
     "output_type": "display_data"
    }
   ],
   "source": [
    "\n",
    "# Compute confusion matrix\n",
    "cnf_matrix = confusion_matrix(y_test, rf_y_pred)\n",
    "np.set_printoptions(precision=2)\n",
    "\n",
    "# Plot non-normalized confusion matrix\n",
    "plt.figure()\n",
    "plot_confusion_matrix(cnf_matrix, classes= [0,1,2,3,4,5,6,7,8,9] )\n",
    "\n",
    " #Plot normalized confusion matrix\n",
    "#plt.figure()\n",
    "#plot_confusion_matrix(cnf_matrix, classes= [0,1,2,3,4,5,6,7,8,9], normalize=True,\n",
    " #                     title='Normalized confusion matrix')\n",
    "\n",
    "plt.show()"
   ]
  },
  {
   "cell_type": "code",
   "execution_count": 51,
   "metadata": {},
   "outputs": [
    {
     "name": "stdout",
     "output_type": "stream",
     "text": [
      "random forest accuracy on USPS data:  0.111105555278\n"
     ]
    }
   ],
   "source": [
    "US_rf_y_pred = rf_model.predict(USPSMat)\n",
    "US_rf_acc = accuracy_score(USPSTar, US_rf_y_pred)\n",
    "print (\"random forest accuracy on USPS data: \",US_rf_acc)"
   ]
  },
  {
   "cell_type": "code",
   "execution_count": 56,
   "metadata": {},
   "outputs": [
    {
     "name": "stdout",
     "output_type": "stream",
     "text": [
      "Confusion matrix, without normalization\n",
      "[[   0   53    0    0   18   83    0 1846    0    0]\n",
      " [   0  544    0    0    0   29    0 1427    0    0]\n",
      " [   0  248    1    0    1   71    0 1678    0    0]\n",
      " [   0   35    0    0    6  166    0 1793    0    0]\n",
      " [   0  146    0    0   15   44    0 1795    0    0]\n",
      " [   0  104    0    0    5  259    0 1632    0    0]\n",
      " [   0   98    0    0    1  210    0 1691    0    0]\n",
      " [   0  564    0    0    0   33    0 1403    0    0]\n",
      " [   0  136    0    0    6  550    0 1308    0    0]\n",
      " [   0  283    0    0    5   59    0 1653    0    0]]\n"
     ]
    },
    {
     "data": {
      "image/png": "[encoded data removed]",
      "text/plain": [
       "<matplotlib.figure.Figure at 0x282646be080>"
      ]
     },
     "metadata": {},
     "output_type": "display_data"
    }
   ],
   "source": [
    "# Compute confusion matrix\n",
    "cnf_matrix = confusion_matrix(USPSTar, US_rf_y_pred)\n",
    "np.set_printoptions(precision=2)\n",
    "\n",
    "# Plot non-normalized confusion matrix\n",
    "#plt.figure()\n",
    "plot_confusion_matrix(cnf_matrix, classes= [0,1,2,3,4,5,6,7,8,9] )\n",
    "\n",
    " #Plot normalized confusion matrix\n",
    "#plt.figure()\n",
    "#plot_confusion_matrix(cnf_matrix, classes= [0,1,2,3,4,5,6,7,8,9], normalize=True,\n",
    " #                     title='Normalized confusion matrix')\n",
    "\n",
    "plt.show()"
   ]
  },
  {
   "cell_type": "code",
   "execution_count": 6,
   "metadata": {},
   "outputs": [
    {
     "name": "stdout",
     "output_type": "stream",
     "text": [
      "Random forest accuracy on MNIST data:  0.9458\n"
     ]
    }
   ],
   "source": [
    "rf_model = RandomForestClassifier(n_jobs=-1, n_estimators=10)\n",
    "rf_model.fit(x_train, y_train)\n",
    "rf_y_pred = rf_model.predict(x_test)\n",
    "mnist_rf_acc = accuracy_score(y_test, rf_y_pred)\n",
    "print (\"Random forest accuracy on MNIST data: \",mnist_rf_acc)"
   ]
  },
  {
   "cell_type": "code",
   "execution_count": 7,
   "metadata": {},
   "outputs": [
    {
     "name": "stdout",
     "output_type": "stream",
     "text": [
      "random forest accuracy on USPS data:  0.101955097755\n"
     ]
    }
   ],
   "source": [
    "US_rf_y_pred = rf_model.predict(USPSMat)\n",
    "US_rf_acc = accuracy_score(USPSTar, US_rf_y_pred)\n",
    "print (\"random forest accuracy on USPS data: \",US_rf_acc)"
   ]
  },
  {
   "cell_type": "code",
   "execution_count": 9,
   "metadata": {},
   "outputs": [
    {
     "name": "stdout",
     "output_type": "stream",
     "text": [
      "Confusion matrix, without normalization\n",
      "[[ 968    1    1    0    0    3    4    1    2    0]\n",
      " [   0 1120    4    4    0    2    3    0    2    0]\n",
      " [   8    2  970    9    7    4    5   13   11    3]\n",
      " [   5    2   27  936    1   16    0    8   12    3]\n",
      " [   3    2    8    1  935    1    6    2    5   19]\n",
      " [   7    3    4   36    4  814    9    1    7    7]\n",
      " [  12    3    3    2    4   10  918    0    6    0]\n",
      " [   3    5   22    2    3    1    0  976    4   12]\n",
      " [   6    0   17   21    9    9    6    3  891   12]\n",
      " [   7    4    5   13   23    4    1    9   13  930]]\n"
     ]
    },
    {
     "data": {
      "image/png": "[encoded data removed]",
      "text/plain": [
       "<matplotlib.figure.Figure at 0x20b66cf9e80>"
      ]
     },
     "metadata": {},
     "output_type": "display_data"
    }
   ],
   "source": [
    "# Compute confusion matrix\n",
    "cnf_matrix = confusion_matrix(y_test, rf_y_pred)\n",
    "np.set_printoptions(precision=2)\n",
    "\n",
    "# Plot non-normalized confusion matrix\n",
    "plt.figure()\n",
    "plot_confusion_matrix(cnf_matrix, classes= [0,1,2,3,4,5,6,7,8,9] )\n",
    "\n",
    " #Plot normalized confusion matrix\n",
    "#plt.figure()\n",
    "#plot_confusion_matrix(cnf_matrix, classes= [0,1,2,3,4,5,6,7,8,9], normalize=True,\n",
    " #                     title='Normalized confusion matrix')\n",
    "\n",
    "plt.show()"
   ]
  },
  {
   "cell_type": "code",
   "execution_count": 10,
   "metadata": {},
   "outputs": [
    {
     "name": "stdout",
     "output_type": "stream",
     "text": [
      "Confusion matrix, without normalization\n",
      "[[  62  340   34  145   33  139    0 1247    0    0]\n",
      " [  11  643   41   24    2    5    0 1272    0    2]\n",
      " [  49  714   41  201    6   32    0  952    4    0]\n",
      " [  23  572   68  177   18   70    0 1072    0    0]\n",
      " [   6  422   66   70   28   25    0 1382    1    0]\n",
      " [  17  400   40  239    1   93    0 1206    3    1]\n",
      " [  37  352   87  352   14   79    2 1073    1    3]\n",
      " [  17  845   60   84    1    9    0  984    0    0]\n",
      " [  40  457  111  319   19  188    0  856    8    2]\n",
      " [  14  547   38   89   11   38    0 1261    1    1]]\n"
     ]
    },
    {
     "data": {
      "image/png": "[encoded data removed]",
      "text/plain": [
       "<matplotlib.figure.Figure at 0x20b6b6a27b8>"
      ]
     },
     "metadata": {},
     "output_type": "display_data"
    }
   ],
   "source": [
    "# Compute confusion matrix\n",
    "cnf_matrix = confusion_matrix(USPSTar, US_rf_y_pred)\n",
    "np.set_printoptions(precision=2)\n",
    "\n",
    "# Plot non-normalized confusion matrix\n",
    "#plt.figure()\n",
    "plot_confusion_matrix(cnf_matrix, classes= [0,1,2,3,4,5,6,7,8,9] )\n",
    "\n",
    " #Plot normalized confusion matrix\n",
    "#plt.figure()\n",
    "#plot_confusion_matrix(cnf_matrix, classes= [0,1,2,3,4,5,6,7,8,9], normalize=True,\n",
    " #                     title='Normalized confusion matrix')\n",
    "\n",
    "plt.show()"
   ]
  },
  {
   "cell_type": "code",
   "execution_count": 11,
   "metadata": {},
   "outputs": [
    {
     "name": "stdout",
     "output_type": "stream",
     "text": [
      "Random forest accuracy on MNIST data:  0.9692\n"
     ]
    }
   ],
   "source": [
    "rf_model = RandomForestClassifier(n_jobs=-1, n_estimators=100)\n",
    "rf_model.fit(x_train, y_train)\n",
    "rf_y_pred = rf_model.predict(x_test)\n",
    "mnist_rf_acc = accuracy_score(y_test, rf_y_pred)\n",
    "print (\"Random forest accuracy on MNIST data: \",mnist_rf_acc)"
   ]
  },
  {
   "cell_type": "code",
   "execution_count": 12,
   "metadata": {},
   "outputs": [
    {
     "name": "stdout",
     "output_type": "stream",
     "text": [
      "random forest accuracy on USPS data:  0.115705785289\n"
     ]
    }
   ],
   "source": [
    "US_rf_y_pred = rf_model.predict(USPSMat)\n",
    "US_rf_acc = accuracy_score(USPSTar, US_rf_y_pred)\n",
    "print (\"random forest accuracy on USPS data: \",US_rf_acc)"
   ]
  },
  {
   "cell_type": "code",
   "execution_count": 13,
   "metadata": {},
   "outputs": [
    {
     "name": "stdout",
     "output_type": "stream",
     "text": [
      "Confusion matrix, without normalization\n",
      "[[ 971    0    2    0    0    2    2    1    2    0]\n",
      " [   0 1125    2    3    0    1    3    0    1    0]\n",
      " [   6    0  999    5    3    0    4    9    6    0]\n",
      " [   0    0   10  970    0    9    0   10    7    4]\n",
      " [   1    0    1    0  956    0    5    0    2   17]\n",
      " [   3    0    1   12    4  859    4    2    4    3]\n",
      " [   5    3    1    1    4    6  935    0    3    0]\n",
      " [   2    3   19    1    1    0    0  992    3    7]\n",
      " [   5    0    5    4    5    7    5    4  930    9]\n",
      " [   5    6    3   11   14    6    1    4    4  955]]\n"
     ]
    },
    {
     "data": {
      "image/png": "[encoded data removed]",
      "text/plain": [
       "<matplotlib.figure.Figure at 0x20b00047e10>"
      ]
     },
     "metadata": {},
     "output_type": "display_data"
    }
   ],
   "source": [
    "# Compute confusion matrix\n",
    "cnf_matrix = confusion_matrix(y_test, rf_y_pred)\n",
    "np.set_printoptions(precision=2)\n",
    "\n",
    "# Plot non-normalized confusion matrix\n",
    "plt.figure()\n",
    "plot_confusion_matrix(cnf_matrix, classes= [0,1,2,3,4,5,6,7,8,9] )\n",
    "\n",
    " #Plot normalized confusion matrix\n",
    "#plt.figure()\n",
    "#plot_confusion_matrix(cnf_matrix, classes= [0,1,2,3,4,5,6,7,8,9], normalize=True,\n",
    " #                     title='Normalized confusion matrix')\n",
    "\n",
    "plt.show()"
   ]
  },
  {
   "cell_type": "code",
   "execution_count": 14,
   "metadata": {},
   "outputs": [
    {
     "name": "stdout",
     "output_type": "stream",
     "text": [
      "Confusion matrix, without normalization\n",
      "[[   0   18    0    0   67   74    0 1841    0    0]\n",
      " [   0  252    0    0    2   31    0 1715    0    0]\n",
      " [   0   91    2    1   15   48    0 1842    0    0]\n",
      " [   0   33    0    8   34  104    0 1821    0    0]\n",
      " [   0   58    0    0   64   37    0 1841    0    0]\n",
      " [   0   54    0    0   11  258    0 1677    0    0]\n",
      " [   0   42    0    0   18  219    0 1721    0    0]\n",
      " [   0  233    0    0   12   25    0 1730    0    0]\n",
      " [   0   98    0    1   38  513    0 1350    0    0]\n",
      " [   0  106    0    0   25   48    0 1821    0    0]]\n"
     ]
    },
    {
     "data": {
      "image/png": "[encoded data removed]",
      "text/plain": [
       "<matplotlib.figure.Figure at 0x20b00172d30>"
      ]
     },
     "metadata": {},
     "output_type": "display_data"
    }
   ],
   "source": [
    "# Compute confusion matrix\n",
    "cnf_matrix = confusion_matrix(USPSTar, US_rf_y_pred)\n",
    "np.set_printoptions(precision=2)\n",
    "\n",
    "# Plot non-normalized confusion matrix\n",
    "#plt.figure()\n",
    "plot_confusion_matrix(cnf_matrix, classes= [0,1,2,3,4,5,6,7,8,9] )\n",
    "\n",
    " #Plot normalized confusion matrix\n",
    "#plt.figure()\n",
    "#plot_confusion_matrix(cnf_matrix, classes= [0,1,2,3,4,5,6,7,8,9], normalize=True,\n",
    " #                     title='Normalized confusion matrix')\n",
    "\n",
    "plt.show()"
   ]
  },
  {
   "cell_type": "code",
   "execution_count": 15,
   "metadata": {},
   "outputs": [
    {
     "name": "stdout",
     "output_type": "stream",
     "text": [
      "Random forest accuracy on MNIST data:  0.9697\n"
     ]
    }
   ],
   "source": [
    "rf_model = RandomForestClassifier(n_jobs=1, n_estimators=100)\n",
    "rf_model.fit(x_train, y_train)\n",
    "rf_y_pred = rf_model.predict(x_test)\n",
    "mnist_rf_acc = accuracy_score(y_test, rf_y_pred)\n",
    "print (\"Random forest accuracy on MNIST data: \",mnist_rf_acc)"
   ]
  },
  {
   "cell_type": "code",
   "execution_count": 16,
   "metadata": {},
   "outputs": [
    {
     "name": "stdout",
     "output_type": "stream",
     "text": [
      "random forest accuracy on USPS data:  0.115705785289\n"
     ]
    }
   ],
   "source": [
    "US_rf_y_pred = rf_model.predict(USPSMat)\n",
    "US_rf_acc = accuracy_score(USPSTar, US_rf_y_pred)\n",
    "print (\"random forest accuracy on USPS data: \",US_rf_acc)"
   ]
  },
  {
   "cell_type": "code",
   "execution_count": 17,
   "metadata": {},
   "outputs": [
    {
     "name": "stdout",
     "output_type": "stream",
     "text": [
      "Confusion matrix, without normalization\n",
      "[[ 971    0    0    0    0    3    3    1    2    0]\n",
      " [   0 1120    3    3    0    2    3    1    3    0]\n",
      " [   6    0  999    3    3    1    4   10    6    0]\n",
      " [   0    0   10  971    0    8    0    9    9    3]\n",
      " [   1    0    2    0  954    0    4    1    2   18]\n",
      " [   3    0    0   13    3  862    4    1    4    2]\n",
      " [   6    3    1    0    3    4  939    0    2    0]\n",
      " [   1    3   23    2    0    0    0  986    3   10]\n",
      " [   4    0    7    5    5    4    3    4  934    8]\n",
      " [   7    5    2   12    9    1    1    5    6  961]]\n"
     ]
    },
    {
     "data": {
      "image/png": "[encoded data removed]",
      "text/plain": [
       "<matplotlib.figure.Figure at 0x20b000ee8d0>"
      ]
     },
     "metadata": {},
     "output_type": "display_data"
    }
   ],
   "source": [
    "# Compute confusion matrix\n",
    "cnf_matrix = confusion_matrix(y_test, rf_y_pred)\n",
    "np.set_printoptions(precision=2)\n",
    "\n",
    "# Plot non-normalized confusion matrix\n",
    "plt.figure()\n",
    "plot_confusion_matrix(cnf_matrix, classes= [0,1,2,3,4,5,6,7,8,9] )\n",
    "\n",
    " #Plot normalized confusion matrix\n",
    "#plt.figure()\n",
    "#plot_confusion_matrix(cnf_matrix, classes= [0,1,2,3,4,5,6,7,8,9], normalize=True,\n",
    " #                     title='Normalized confusion matrix')\n",
    "\n",
    "plt.show()"
   ]
  },
  {
   "cell_type": "code",
   "execution_count": 18,
   "metadata": {},
   "outputs": [
    {
     "name": "stdout",
     "output_type": "stream",
     "text": [
      "Confusion matrix, without normalization\n",
      "[[   0   41    0    0   22  271    0 1666    0    0]\n",
      " [   0  308    0    0    2   80    0 1610    0    0]\n",
      " [   0  133    0    0    2  229    0 1635    0    0]\n",
      " [   0   14    0    0   14  412    0 1560    0    0]\n",
      " [   0   47    0    0   49  112    0 1792    0    0]\n",
      " [   0   50    0    0    3  544    0 1403    0    0]\n",
      " [   0   32    0    0   15  428    0 1525    0    0]\n",
      " [   0  370    0    0    4  213    0 1413    0    0]\n",
      " [   0   58    0    0   23  861    0 1058    0    0]\n",
      " [   0  159    0    0    9  186    0 1646    0    0]]\n"
     ]
    },
    {
     "data": {
      "image/png": "[encoded data removed]",
      "text/plain": [
       "<matplotlib.figure.Figure at 0x20b02177dd8>"
      ]
     },
     "metadata": {},
     "output_type": "display_data"
    }
   ],
   "source": [
    "# Compute confusion matrix\n",
    "cnf_matrix = confusion_matrix(USPSTar, US_rf_y_pred)\n",
    "np.set_printoptions(precision=2)\n",
    "\n",
    "# Plot non-normalized confusion matrix\n",
    "#plt.figure()\n",
    "plot_confusion_matrix(cnf_matrix, classes= [0,1,2,3,4,5,6,7,8,9] )\n",
    "\n",
    " #Plot normalized confusion matrix\n",
    "#plt.figure()\n",
    "#plot_confusion_matrix(cnf_matrix, classes= [0,1,2,3,4,5,6,7,8,9], normalize=True,\n",
    " #                     title='Normalized confusion matrix')\n",
    "\n",
    "plt.show()"
   ]
  },
  {
   "cell_type": "code",
   "execution_count": 27,
   "metadata": {},
   "outputs": [
    {
     "name": "stdout",
     "output_type": "stream",
     "text": [
      "Random forest accuracy on MNIST data:  0.9582\n"
     ]
    }
   ],
   "source": [
    "rf_model = RandomForestClassifier(n_jobs=1, n_estimators=100, max_leaf_nodes= 1000)\n",
    "rf_model.fit(x_train, y_train)\n",
    "rf_y_pred = rf_model.predict(x_test)\n",
    "mnist_rf_acc = accuracy_score(y_test, rf_y_pred)\n",
    "print (\"Random forest accuracy on MNIST data: \",mnist_rf_acc)"
   ]
  },
  {
   "cell_type": "code",
   "execution_count": 28,
   "metadata": {},
   "outputs": [
    {
     "name": "stdout",
     "output_type": "stream",
     "text": [
      "random forest accuracy on USPS data:  0.115055752788\n"
     ]
    }
   ],
   "source": [
    "US_rf_y_pred = rf_model.predict(USPSMat)\n",
    "US_rf_acc = accuracy_score(USPSTar, US_rf_y_pred)\n",
    "print (\"random forest accuracy on USPS data: \",US_rf_acc)"
   ]
  },
  {
   "cell_type": "code",
   "execution_count": 19,
   "metadata": {},
   "outputs": [
    {
     "name": "stdout",
     "output_type": "stream",
     "text": [
      "Confusion matrix, without normalization\n",
      "[[ 971    0    0    0    0    3    3    1    2    0]\n",
      " [   0 1120    3    3    0    2    3    1    3    0]\n",
      " [   6    0  999    3    3    1    4   10    6    0]\n",
      " [   0    0   10  971    0    8    0    9    9    3]\n",
      " [   1    0    2    0  954    0    4    1    2   18]\n",
      " [   3    0    0   13    3  862    4    1    4    2]\n",
      " [   6    3    1    0    3    4  939    0    2    0]\n",
      " [   1    3   23    2    0    0    0  986    3   10]\n",
      " [   4    0    7    5    5    4    3    4  934    8]\n",
      " [   7    5    2   12    9    1    1    5    6  961]]\n"
     ]
    },
    {
     "data": {
      "image/png": "[encoded data removed]",
      "text/plain": [
       "<matplotlib.figure.Figure at 0x20b0218d668>"
      ]
     },
     "metadata": {},
     "output_type": "display_data"
    }
   ],
   "source": [
    "# Compute confusion matrix\n",
    "cnf_matrix = confusion_matrix(y_test, rf_y_pred)\n",
    "np.set_printoptions(precision=2)\n",
    "\n",
    "# Plot non-normalized confusion matrix\n",
    "plt.figure()\n",
    "plot_confusion_matrix(cnf_matrix, classes= [0,1,2,3,4,5,6,7,8,9] )\n",
    "\n",
    " #Plot normalized confusion matrix\n",
    "#plt.figure()\n",
    "#plot_confusion_matrix(cnf_matrix, classes= [0,1,2,3,4,5,6,7,8,9], normalize=True,\n",
    " #                     title='Normalized confusion matrix')\n",
    "\n",
    "plt.show()"
   ]
  },
  {
   "cell_type": "code",
   "execution_count": 20,
   "metadata": {},
   "outputs": [
    {
     "name": "stdout",
     "output_type": "stream",
     "text": [
      "Confusion matrix, without normalization\n",
      "[[   0   41    0    0   22  271    0 1666    0    0]\n",
      " [   0  308    0    0    2   80    0 1610    0    0]\n",
      " [   0  133    0    0    2  229    0 1635    0    0]\n",
      " [   0   14    0    0   14  412    0 1560    0    0]\n",
      " [   0   47    0    0   49  112    0 1792    0    0]\n",
      " [   0   50    0    0    3  544    0 1403    0    0]\n",
      " [   0   32    0    0   15  428    0 1525    0    0]\n",
      " [   0  370    0    0    4  213    0 1413    0    0]\n",
      " [   0   58    0    0   23  861    0 1058    0    0]\n",
      " [   0  159    0    0    9  186    0 1646    0    0]]\n"
     ]
    },
    {
     "data": {
      "image/png": "[encoded data removed]",
      "text/plain": [
       "<matplotlib.figure.Figure at 0x20b68dd1198>"
      ]
     },
     "metadata": {},
     "output_type": "display_data"
    }
   ],
   "source": [
    "# Compute confusion matrix\n",
    "cnf_matrix = confusion_matrix(USPSTar, US_rf_y_pred)\n",
    "np.set_printoptions(precision=2)\n",
    "\n",
    "# Plot non-normalized confusion matrix\n",
    "#plt.figure()\n",
    "plot_confusion_matrix(cnf_matrix, classes= [0,1,2,3,4,5,6,7,8,9] )\n",
    "\n",
    " #Plot normalized confusion matrix\n",
    "#plt.figure()\n",
    "#plot_confusion_matrix(cnf_matrix, classes= [0,1,2,3,4,5,6,7,8,9], normalize=True,\n",
    " #                     title='Normalized confusion matrix')\n",
    "\n",
    "plt.show()"
   ]
  },
  {
   "cell_type": "markdown",
   "metadata": {},
   "source": [
    "# Logistic Regression"
   ]
  },
  {
   "cell_type": "code",
   "execution_count": 11,
   "metadata": {},
   "outputs": [],
   "source": [
    "#reference:  https://medium.com/@martinpella/logistic-regression-from-scratch-in-python-124c5636b8ac\n",
    "            #https://medium.com/@aerinykim/how-to-implement-the-softmax-derivative-independently-from-any-loss-function-ae6d44363a9d\n",
    "class LogisticRegression:\n",
    "    def __init__(self, lr=0.01, num_iter=100000, fit_intercept=True, verbose=False):\n",
    "        self.lr = lr\n",
    "        self.num_iter = num_iter\n",
    "        self.fit_intercept = fit_intercept\n",
    "        self.verbose = verbose\n",
    "    \n",
    "    def __add_intercept(self, X):\n",
    "        intercept = np.ones((X.shape[0], 1))\n",
    "        return np.concatenate((intercept, X), axis=1)\n",
    "    \n",
    "    def __sigmoid(self, z):\n",
    "        return 1 / (1 + np.exp(-z))\n",
    "    \n",
    "    def __softmax(self, x):\n",
    "        \"\"\"Compute softmax values for each sets of scores in x.\"\"\"\n",
    "        e_x = np.exp(x - np.max(x))\n",
    "        return e_x / e_x.sum(axis=0) # only difference\n",
    "    \n",
    "    \n",
    "    def softmax_grad(self,s): \n",
    "    # Take the derivative of softmax element w.r.t the each logit which is usually Wi * X\n",
    "    # input s is softmax value of the original input x. \n",
    "    # s.shape = (1, n) \n",
    "    # i.e. s = np.array([0.3, 0.7]), x = np.array([0, 1])\n",
    "\n",
    "    # initialize the 2-D jacobian matrix.\n",
    "        jacobian_m = np.diag(s)\n",
    "\n",
    "        for i in range(len(jacobian_m)):\n",
    "            for j in range(len(jacobian_m)):\n",
    "                if i == j:\n",
    "                    jacobian_m[i][j] = s[i] * (1-s[i])\n",
    "                else: \n",
    "                    jacobian_m[i][j] = -s[i]*s[j]\n",
    "        return jacobian_m\n",
    "    \n",
    "    #def softmax(self,z):\n",
    "     #   z -= np.max(z)\n",
    "      #  sm = (np.exp(z).T / np.sum(np.exp(z), axis=0)).T\n",
    "       # return sm\n",
    "    \n",
    "    def __loss(self, h, y):\n",
    "        return (-y * np.log(h) - (1 - y) * np.log(1 - h)).mean()\n",
    "    \n",
    "    def fit(self, X, y):\n",
    "        \n",
    "        \n",
    "        # weights initialization\n",
    "        self.theta = np.zeros(X.shape[0])\n",
    "        \n",
    "        for i in range(self.num_iter):\n",
    "            z = np.dot(X.T, self.theta)\n",
    "            #h = self.__sigmoid(z)\n",
    "            h = self.__softmax(z)\n",
    "            gradient = np.dot(X, (h - y))\n",
    "           \n",
    "            gradient = gradient / y.size\n",
    "            #gradient = self.softmax_grad(h)\n",
    "            self.theta -= self.lr * gradient\n",
    "            \n",
    "            #print(self.theta)\n",
    "            if(self.verbose == True and i % 10000 == 0):\n",
    "                z = np.dot(X, self.theta)\n",
    "                h = self.__sigmoid(z)\n",
    "                print(f'loss: {self.__loss(h, y)} \\t')\n",
    "    \n",
    "    def predict_prob(self, X):\n",
    "        \n",
    "    \n",
    "        #return self.__sigmoid(np.dot(X.T, self.theta))\n",
    "        return self.__softmax(np.dot(X.T, self.theta))\n",
    "    def predict(self, X,threshold = 0.1):\n",
    "        return self.predict_prob(X)"
   ]
  },
  {
   "cell_type": "code",
   "execution_count": 12,
   "metadata": {},
   "outputs": [
    {
     "name": "stdout",
     "output_type": "stream",
     "text": [
      "X shape:  (784, 60000)\n",
      "y shape:  (60000,)\n",
      "x_test.T shape:  (784, 10000)\n",
      "USPSMat.t shape:  (784, 19999)\n",
      "preds_mnist.shape:  (10000,)\n",
      "preds_usps.shape:  (19999,)\n",
      "---------------------------------------\n",
      "ytest.shape:  (10000,)\n",
      "USPSTar.shape:  (19999,)\n",
      "--------LOGISTIC REGRESSION---------------\n",
      "--------MNIST DATA-----------------------\n",
      "prediction accuracy of MNIST set:0.902\n",
      "prediction accuracy of USPS set:0.10000500025\n"
     ]
    }
   ],
   "source": [
    "lg_model = LogisticRegression(lr=0.01, num_iter=50)\n",
    "\n",
    "X = x_train.T\n",
    "y = y_train\n",
    "\n",
    "print('X shape: ',X.shape)\n",
    "print('y shape: ',y.shape)\n",
    "lg_model.fit(X,y)\n",
    "\n",
    "print('x_test.T shape: ',(x_test.T).shape)\n",
    "print('USPSMat.t shape: ',(USPSMat.T).shape)\n",
    "preds_mnist = lg_model.predict(x_test.T)\n",
    "preds_usps = lg_model.predict(USPSMat.T)\n",
    "\n",
    "print('preds_mnist.shape: ',preds_mnist.shape)\n",
    "print('preds_usps.shape: ', preds_usps.shape)\n",
    "\n",
    "print('---------------------------------------')\n",
    "\n",
    "print('ytest.shape: ',y_test.shape)\n",
    "print('USPSTar.shape: ', USPSTar.shape)\n",
    "print('--------LOGISTIC REGRESSION---------------')\n",
    "print('--------MNIST DATA-----------------------')\n",
    "print('prediction accuracy of MNIST set:'+ str(1-(preds_mnist == y_test).mean()))\n",
    "\n",
    "print('prediction accuracy of USPS set:'+ str((preds_usps == USPSTar).mean()))\n",
    "\n",
    "#https://stackoverflow.com/questions/24560298/python-numpy-valueerror-operands-could-not-be-broadcast-together-with-shapes"
   ]
  },
  {
   "cell_type": "code",
   "execution_count": 16,
   "metadata": {},
   "outputs": [
    {
     "name": "stdout",
     "output_type": "stream",
     "text": [
      "Confusion matrix, without normalization\n",
      "[[ 958    1    2    1    0    2    6    1    8    1]\n",
      " [   0 1114    3    3    0    2    4    1    8    0]\n",
      " [  13    5  902   19   12    6   26   26   16    7]\n",
      " [  11    1   18  894    2   19    2   24   23   16]\n",
      " [   4    2    0    1  835    1   27    2   19   91]\n",
      " [  30   18    2   76   17  688   19    9   17   16]\n",
      " [  26    4   14    0   21    6  880    0    7    0]\n",
      " [   4   13   33    5    6    0    0  920    8   39]\n",
      " [   9   14    8   36   12   15   19    6  823   32]\n",
      " [   8    7    3   15   33    9    4   14   13  903]]\n"
     ]
    },
    {
     "data": {
      "image/png": "[encoded data removed]",
      "text/plain": [
       "<matplotlib.figure.Figure at 0x1449956f6d8>"
      ]
     },
     "metadata": {},
     "output_type": "display_data"
    }
   ],
   "source": [
    "# Compute confusion matrix\n",
    "cnf_matrix = confusion_matrix(y_test, rf_y_pred)\n",
    "np.set_printoptions(precision=2)\n",
    "\n",
    "# Plot non-normalized confusion matrix\n",
    "plt.figure()\n",
    "plot_confusion_matrix(cnf_matrix, classes= [0,1,2,3,4,5,6,7,8,9] )\n",
    "\n",
    "\n",
    "plt.show()"
   ]
  },
  {
   "cell_type": "code",
   "execution_count": 13,
   "metadata": {},
   "outputs": [
    {
     "name": "stdout",
     "output_type": "stream",
     "text": [
      "Confusion matrix, without normalization\n",
      "[[2000    0    0    0    0    0    0    0    0    0]\n",
      " [2000    0    0    0    0    0    0    0    0    0]\n",
      " [1999    0    0    0    0    0    0    0    0    0]\n",
      " [1999    1    0    0    0    0    0    0    0    0]\n",
      " [2000    0    0    0    0    0    0    0    0    0]\n",
      " [2000    0    0    0    0    0    0    0    0    0]\n",
      " [2000    0    0    0    0    0    0    0    0    0]\n",
      " [2000    0    0    0    0    0    0    0    0    0]\n",
      " [2000    0    0    0    0    0    0    0    0    0]\n",
      " [2000    0    0    0    0    0    0    0    0    0]]\n"
     ]
    },
    {
     "data": {
      "image/png": "[encoded data removed]",
      "text/plain": [
       "<matplotlib.figure.Figure at 0x1449956fda0>"
      ]
     },
     "metadata": {},
     "output_type": "display_data"
    }
   ],
   "source": [
    "# Compute confusion matrix\n",
    "cnf_matrix = confusion_matrix(USPSTar, preds_usps)\n",
    "np.set_printoptions(precision=2)\n",
    "\n",
    "# Plot non-normalized confusion matrix\n",
    "#plt.figure()\n",
    "plot_confusion_matrix(cnf_matrix, classes= [0,1,2,3,4,5,6,7,8,9] )\n",
    "\n",
    "\n",
    "plt.show()"
   ]
  },
  {
   "cell_type": "markdown",
   "metadata": {},
   "source": [
    "# Ensemble Classifier (Majority Voting)"
   ]
  },
  {
   "cell_type": "code",
   "execution_count": 11,
   "metadata": {},
   "outputs": [
    {
     "name": "stderr",
     "output_type": "stream",
     "text": [
      "C:\\Users\\riskh\\Anaconda3\\lib\\site-packages\\sklearn\\linear_model\\logistic.py:432: FutureWarning: Default solver will be changed to 'lbfgs' in 0.22. Specify a solver to silence this warning.\n",
      "  FutureWarning)\n",
      "C:\\Users\\riskh\\Anaconda3\\lib\\site-packages\\sklearn\\linear_model\\logistic.py:459: FutureWarning: Default multi_class will be changed to 'auto' in 0.22. Specify the multi_class option to silence this warning.\n",
      "  \"this warning.\", FutureWarning)\n",
      "C:\\Users\\riskh\\Anaconda3\\lib\\site-packages\\sklearn\\svm\\base.py:922: ConvergenceWarning: Liblinear failed to converge, increase the number of iterations.\n",
      "  \"the number of iterations.\", ConvergenceWarning)\n",
      "C:\\Users\\riskh\\Anaconda3\\lib\\site-packages\\sklearn\\ensemble\\forest.py:248: FutureWarning: The default value of n_estimators will change from 10 in version 0.20 to 100 in 0.22.\n",
      "  \"10 in version 0.20 to 100 in 0.22.\", FutureWarning)\n",
      "C:\\Users\\riskh\\Anaconda3\\lib\\site-packages\\sklearn\\svm\\base.py:922: ConvergenceWarning: Liblinear failed to converge, increase the number of iterations.\n",
      "  \"the number of iterations.\", ConvergenceWarning)\n",
      "C:\\Users\\riskh\\Anaconda3\\lib\\site-packages\\sklearn\\linear_model\\logistic.py:432: FutureWarning: Default solver will be changed to 'lbfgs' in 0.22. Specify a solver to silence this warning.\n",
      "  FutureWarning)\n",
      "C:\\Users\\riskh\\Anaconda3\\lib\\site-packages\\sklearn\\linear_model\\logistic.py:459: FutureWarning: Default multi_class will be changed to 'auto' in 0.22. Specify the multi_class option to silence this warning.\n",
      "  \"this warning.\", FutureWarning)\n",
      "C:\\Users\\riskh\\Anaconda3\\lib\\site-packages\\sklearn\\svm\\base.py:922: ConvergenceWarning: Liblinear failed to converge, increase the number of iterations.\n",
      "  \"the number of iterations.\", ConvergenceWarning)\n",
      "C:\\Users\\riskh\\Anaconda3\\lib\\site-packages\\sklearn\\ensemble\\forest.py:248: FutureWarning: The default value of n_estimators will change from 10 in version 0.20 to 100 in 0.22.\n",
      "  \"10 in version 0.20 to 100 in 0.22.\", FutureWarning)\n",
      "C:\\Users\\riskh\\Anaconda3\\lib\\site-packages\\sklearn\\svm\\base.py:922: ConvergenceWarning: Liblinear failed to converge, increase the number of iterations.\n",
      "  \"the number of iterations.\", ConvergenceWarning)\n",
      "C:\\Users\\riskh\\Anaconda3\\lib\\site-packages\\sklearn\\linear_model\\logistic.py:432: FutureWarning: Default solver will be changed to 'lbfgs' in 0.22. Specify a solver to silence this warning.\n",
      "  FutureWarning)\n",
      "C:\\Users\\riskh\\Anaconda3\\lib\\site-packages\\sklearn\\linear_model\\logistic.py:459: FutureWarning: Default multi_class will be changed to 'auto' in 0.22. Specify the multi_class option to silence this warning.\n",
      "  \"this warning.\", FutureWarning)\n",
      "C:\\Users\\riskh\\Anaconda3\\lib\\site-packages\\sklearn\\svm\\base.py:922: ConvergenceWarning: Liblinear failed to converge, increase the number of iterations.\n",
      "  \"the number of iterations.\", ConvergenceWarning)\n",
      "C:\\Users\\riskh\\Anaconda3\\lib\\site-packages\\sklearn\\ensemble\\forest.py:248: FutureWarning: The default value of n_estimators will change from 10 in version 0.20 to 100 in 0.22.\n",
      "  \"10 in version 0.20 to 100 in 0.22.\", FutureWarning)\n",
      "C:\\Users\\riskh\\Anaconda3\\lib\\site-packages\\sklearn\\svm\\base.py:922: ConvergenceWarning: Liblinear failed to converge, increase the number of iterations.\n",
      "  \"the number of iterations.\", ConvergenceWarning)\n",
      "C:\\Users\\riskh\\Anaconda3\\lib\\site-packages\\sklearn\\linear_model\\logistic.py:432: FutureWarning: Default solver will be changed to 'lbfgs' in 0.22. Specify a solver to silence this warning.\n",
      "  FutureWarning)\n",
      "C:\\Users\\riskh\\Anaconda3\\lib\\site-packages\\sklearn\\linear_model\\logistic.py:459: FutureWarning: Default multi_class will be changed to 'auto' in 0.22. Specify the multi_class option to silence this warning.\n",
      "  \"this warning.\", FutureWarning)\n",
      "C:\\Users\\riskh\\Anaconda3\\lib\\site-packages\\sklearn\\svm\\base.py:922: ConvergenceWarning: Liblinear failed to converge, increase the number of iterations.\n",
      "  \"the number of iterations.\", ConvergenceWarning)\n",
      "C:\\Users\\riskh\\Anaconda3\\lib\\site-packages\\sklearn\\ensemble\\forest.py:248: FutureWarning: The default value of n_estimators will change from 10 in version 0.20 to 100 in 0.22.\n",
      "  \"10 in version 0.20 to 100 in 0.22.\", FutureWarning)\n",
      "C:\\Users\\riskh\\Anaconda3\\lib\\site-packages\\sklearn\\svm\\base.py:922: ConvergenceWarning: Liblinear failed to converge, increase the number of iterations.\n",
      "  \"the number of iterations.\", ConvergenceWarning)\n",
      "C:\\Users\\riskh\\Anaconda3\\lib\\site-packages\\sklearn\\linear_model\\logistic.py:432: FutureWarning: Default solver will be changed to 'lbfgs' in 0.22. Specify a solver to silence this warning.\n",
      "  FutureWarning)\n",
      "C:\\Users\\riskh\\Anaconda3\\lib\\site-packages\\sklearn\\linear_model\\logistic.py:459: FutureWarning: Default multi_class will be changed to 'auto' in 0.22. Specify the multi_class option to silence this warning.\n",
      "  \"this warning.\", FutureWarning)\n",
      "C:\\Users\\riskh\\Anaconda3\\lib\\site-packages\\sklearn\\svm\\base.py:922: ConvergenceWarning: Liblinear failed to converge, increase the number of iterations.\n",
      "  \"the number of iterations.\", ConvergenceWarning)\n",
      "C:\\Users\\riskh\\Anaconda3\\lib\\site-packages\\sklearn\\ensemble\\forest.py:248: FutureWarning: The default value of n_estimators will change from 10 in version 0.20 to 100 in 0.22.\n",
      "  \"10 in version 0.20 to 100 in 0.22.\", FutureWarning)\n",
      "C:\\Users\\riskh\\Anaconda3\\lib\\site-packages\\sklearn\\svm\\base.py:922: ConvergenceWarning: Liblinear failed to converge, increase the number of iterations.\n",
      "  \"the number of iterations.\", ConvergenceWarning)\n",
      "C:\\Users\\riskh\\Anaconda3\\lib\\site-packages\\sklearn\\linear_model\\logistic.py:432: FutureWarning: Default solver will be changed to 'lbfgs' in 0.22. Specify a solver to silence this warning.\n",
      "  FutureWarning)\n",
      "C:\\Users\\riskh\\Anaconda3\\lib\\site-packages\\sklearn\\linear_model\\logistic.py:459: FutureWarning: Default multi_class will be changed to 'auto' in 0.22. Specify the multi_class option to silence this warning.\n",
      "  \"this warning.\", FutureWarning)\n",
      "C:\\Users\\riskh\\Anaconda3\\lib\\site-packages\\sklearn\\svm\\base.py:922: ConvergenceWarning: Liblinear failed to converge, increase the number of iterations.\n",
      "  \"the number of iterations.\", ConvergenceWarning)\n",
      "C:\\Users\\riskh\\Anaconda3\\lib\\site-packages\\sklearn\\ensemble\\forest.py:248: FutureWarning: The default value of n_estimators will change from 10 in version 0.20 to 100 in 0.22.\n",
      "  \"10 in version 0.20 to 100 in 0.22.\", FutureWarning)\n",
      "C:\\Users\\riskh\\Anaconda3\\lib\\site-packages\\sklearn\\svm\\base.py:922: ConvergenceWarning: Liblinear failed to converge, increase the number of iterations.\n",
      "  \"the number of iterations.\", ConvergenceWarning)\n",
      "C:\\Users\\riskh\\Anaconda3\\lib\\site-packages\\sklearn\\linear_model\\logistic.py:432: FutureWarning: Default solver will be changed to 'lbfgs' in 0.22. Specify a solver to silence this warning.\n",
      "  FutureWarning)\n",
      "C:\\Users\\riskh\\Anaconda3\\lib\\site-packages\\sklearn\\linear_model\\logistic.py:459: FutureWarning: Default multi_class will be changed to 'auto' in 0.22. Specify the multi_class option to silence this warning.\n",
      "  \"this warning.\", FutureWarning)\n",
      "C:\\Users\\riskh\\Anaconda3\\lib\\site-packages\\sklearn\\svm\\base.py:922: ConvergenceWarning: Liblinear failed to converge, increase the number of iterations.\n",
      "  \"the number of iterations.\", ConvergenceWarning)\n",
      "C:\\Users\\riskh\\Anaconda3\\lib\\site-packages\\sklearn\\ensemble\\forest.py:248: FutureWarning: The default value of n_estimators will change from 10 in version 0.20 to 100 in 0.22.\n",
      "  \"10 in version 0.20 to 100 in 0.22.\", FutureWarning)\n",
      "C:\\Users\\riskh\\Anaconda3\\lib\\site-packages\\sklearn\\svm\\base.py:922: ConvergenceWarning: Liblinear failed to converge, increase the number of iterations.\n",
      "  \"the number of iterations.\", ConvergenceWarning)\n",
      "C:\\Users\\riskh\\Anaconda3\\lib\\site-packages\\sklearn\\linear_model\\logistic.py:432: FutureWarning: Default solver will be changed to 'lbfgs' in 0.22. Specify a solver to silence this warning.\n",
      "  FutureWarning)\n",
      "C:\\Users\\riskh\\Anaconda3\\lib\\site-packages\\sklearn\\linear_model\\logistic.py:459: FutureWarning: Default multi_class will be changed to 'auto' in 0.22. Specify the multi_class option to silence this warning.\n",
      "  \"this warning.\", FutureWarning)\n",
      "C:\\Users\\riskh\\Anaconda3\\lib\\site-packages\\sklearn\\svm\\base.py:922: ConvergenceWarning: Liblinear failed to converge, increase the number of iterations.\n",
      "  \"the number of iterations.\", ConvergenceWarning)\n",
      "C:\\Users\\riskh\\Anaconda3\\lib\\site-packages\\sklearn\\ensemble\\forest.py:248: FutureWarning: The default value of n_estimators will change from 10 in version 0.20 to 100 in 0.22.\n",
      "  \"10 in version 0.20 to 100 in 0.22.\", FutureWarning)\n"
     ]
    },
    {
     "name": "stderr",
     "output_type": "stream",
     "text": [
      "C:\\Users\\riskh\\Anaconda3\\lib\\site-packages\\sklearn\\svm\\base.py:922: ConvergenceWarning: Liblinear failed to converge, increase the number of iterations.\n",
      "  \"the number of iterations.\", ConvergenceWarning)\n",
      "C:\\Users\\riskh\\Anaconda3\\lib\\site-packages\\sklearn\\linear_model\\logistic.py:432: FutureWarning: Default solver will be changed to 'lbfgs' in 0.22. Specify a solver to silence this warning.\n",
      "  FutureWarning)\n",
      "C:\\Users\\riskh\\Anaconda3\\lib\\site-packages\\sklearn\\linear_model\\logistic.py:459: FutureWarning: Default multi_class will be changed to 'auto' in 0.22. Specify the multi_class option to silence this warning.\n",
      "  \"this warning.\", FutureWarning)\n",
      "C:\\Users\\riskh\\Anaconda3\\lib\\site-packages\\sklearn\\svm\\base.py:922: ConvergenceWarning: Liblinear failed to converge, increase the number of iterations.\n",
      "  \"the number of iterations.\", ConvergenceWarning)\n",
      "C:\\Users\\riskh\\Anaconda3\\lib\\site-packages\\sklearn\\ensemble\\forest.py:248: FutureWarning: The default value of n_estimators will change from 10 in version 0.20 to 100 in 0.22.\n",
      "  \"10 in version 0.20 to 100 in 0.22.\", FutureWarning)\n",
      "C:\\Users\\riskh\\Anaconda3\\lib\\site-packages\\sklearn\\svm\\base.py:922: ConvergenceWarning: Liblinear failed to converge, increase the number of iterations.\n",
      "  \"the number of iterations.\", ConvergenceWarning)\n",
      "C:\\Users\\riskh\\Anaconda3\\lib\\site-packages\\sklearn\\linear_model\\logistic.py:432: FutureWarning: Default solver will be changed to 'lbfgs' in 0.22. Specify a solver to silence this warning.\n",
      "  FutureWarning)\n",
      "C:\\Users\\riskh\\Anaconda3\\lib\\site-packages\\sklearn\\linear_model\\logistic.py:459: FutureWarning: Default multi_class will be changed to 'auto' in 0.22. Specify the multi_class option to silence this warning.\n",
      "  \"this warning.\", FutureWarning)\n",
      "C:\\Users\\riskh\\Anaconda3\\lib\\site-packages\\sklearn\\svm\\base.py:922: ConvergenceWarning: Liblinear failed to converge, increase the number of iterations.\n",
      "  \"the number of iterations.\", ConvergenceWarning)\n",
      "C:\\Users\\riskh\\Anaconda3\\lib\\site-packages\\sklearn\\ensemble\\forest.py:248: FutureWarning: The default value of n_estimators will change from 10 in version 0.20 to 100 in 0.22.\n",
      "  \"10 in version 0.20 to 100 in 0.22.\", FutureWarning)\n"
     ]
    },
    {
     "name": "stdout",
     "output_type": "stream",
     "text": [
      "0.923616666667\n"
     ]
    },
    {
     "name": "stderr",
     "output_type": "stream",
     "text": [
      "C:\\Users\\riskh\\Anaconda3\\lib\\site-packages\\sklearn\\svm\\base.py:922: ConvergenceWarning: Liblinear failed to converge, increase the number of iterations.\n",
      "  \"the number of iterations.\", ConvergenceWarning)\n"
     ]
    }
   ],
   "source": [
    "#https://machinelearningmastery.com/ensemble-machine-learning-algorithms-python-scikit-learn/\n",
    "import pandas\n",
    "from sklearn import model_selection\n",
    "from sklearn.linear_model import LogisticRegression\n",
    "from sklearn.tree import DecisionTreeClassifier\n",
    "from sklearn.svm import SVC\n",
    "from sklearn.ensemble import VotingClassifier\n",
    "\n",
    "X = x_train\n",
    "Y = y_train\n",
    "seed = 7\n",
    "kfold = model_selection.KFold(n_splits=10, random_state=seed)\n",
    "# creating the sub models\n",
    "estimators = []\n",
    "model1 = LogisticRegression()\n",
    "estimators.append(('logistic', model1))\n",
    "model2 = RandomForestClassifier()\n",
    "estimators.append(('randomforest', model2))\n",
    "model3 = LinearSVC()\n",
    "estimators.append(('svm', model3))\n",
    "model4 = MLPClassifier()\n",
    "estimators.append(('neuralnet', model4))\n",
    "\n",
    "# creating the ensemble model\n",
    "ensemble = VotingClassifier(estimators)\n",
    "results = model_selection.cross_val_score(ensemble, X, Y, cv=kfold)\n",
    "print(results.mean())"
   ]
  },
  {
   "cell_type": "code",
   "execution_count": 14,
   "metadata": {},
   "outputs": [
    {
     "name": "stderr",
     "output_type": "stream",
     "text": [
      "C:\\Users\\riskh\\Anaconda3\\lib\\site-packages\\sklearn\\linear_model\\logistic.py:432: FutureWarning: Default solver will be changed to 'lbfgs' in 0.22. Specify a solver to silence this warning.\n",
      "  FutureWarning)\n",
      "C:\\Users\\riskh\\Anaconda3\\lib\\site-packages\\sklearn\\linear_model\\logistic.py:459: FutureWarning: Default multi_class will be changed to 'auto' in 0.22. Specify the multi_class option to silence this warning.\n",
      "  \"this warning.\", FutureWarning)\n",
      "C:\\Users\\riskh\\Anaconda3\\lib\\site-packages\\sklearn\\ensemble\\forest.py:248: FutureWarning: The default value of n_estimators will change from 10 in version 0.20 to 100 in 0.22.\n",
      "  \"10 in version 0.20 to 100 in 0.22.\", FutureWarning)\n",
      "C:\\Users\\riskh\\Anaconda3\\lib\\site-packages\\sklearn\\svm\\base.py:922: ConvergenceWarning: Liblinear failed to converge, increase the number of iterations.\n",
      "  \"the number of iterations.\", ConvergenceWarning)\n",
      "C:\\Users\\riskh\\Anaconda3\\lib\\site-packages\\sklearn\\linear_model\\logistic.py:432: FutureWarning: Default solver will be changed to 'lbfgs' in 0.22. Specify a solver to silence this warning.\n",
      "  FutureWarning)\n",
      "C:\\Users\\riskh\\Anaconda3\\lib\\site-packages\\sklearn\\linear_model\\logistic.py:459: FutureWarning: Default multi_class will be changed to 'auto' in 0.22. Specify the multi_class option to silence this warning.\n",
      "  \"this warning.\", FutureWarning)\n",
      "C:\\Users\\riskh\\Anaconda3\\lib\\site-packages\\sklearn\\ensemble\\forest.py:248: FutureWarning: The default value of n_estimators will change from 10 in version 0.20 to 100 in 0.22.\n",
      "  \"10 in version 0.20 to 100 in 0.22.\", FutureWarning)\n",
      "C:\\Users\\riskh\\Anaconda3\\lib\\site-packages\\sklearn\\svm\\base.py:922: ConvergenceWarning: Liblinear failed to converge, increase the number of iterations.\n",
      "  \"the number of iterations.\", ConvergenceWarning)\n",
      "C:\\Users\\riskh\\Anaconda3\\lib\\site-packages\\sklearn\\linear_model\\logistic.py:432: FutureWarning: Default solver will be changed to 'lbfgs' in 0.22. Specify a solver to silence this warning.\n",
      "  FutureWarning)\n",
      "C:\\Users\\riskh\\Anaconda3\\lib\\site-packages\\sklearn\\linear_model\\logistic.py:459: FutureWarning: Default multi_class will be changed to 'auto' in 0.22. Specify the multi_class option to silence this warning.\n",
      "  \"this warning.\", FutureWarning)\n",
      "C:\\Users\\riskh\\Anaconda3\\lib\\site-packages\\sklearn\\ensemble\\forest.py:248: FutureWarning: The default value of n_estimators will change from 10 in version 0.20 to 100 in 0.22.\n",
      "  \"10 in version 0.20 to 100 in 0.22.\", FutureWarning)\n",
      "C:\\Users\\riskh\\Anaconda3\\lib\\site-packages\\sklearn\\svm\\base.py:922: ConvergenceWarning: Liblinear failed to converge, increase the number of iterations.\n",
      "  \"the number of iterations.\", ConvergenceWarning)\n",
      "C:\\Users\\riskh\\Anaconda3\\lib\\site-packages\\sklearn\\linear_model\\logistic.py:432: FutureWarning: Default solver will be changed to 'lbfgs' in 0.22. Specify a solver to silence this warning.\n",
      "  FutureWarning)\n",
      "C:\\Users\\riskh\\Anaconda3\\lib\\site-packages\\sklearn\\linear_model\\logistic.py:459: FutureWarning: Default multi_class will be changed to 'auto' in 0.22. Specify the multi_class option to silence this warning.\n",
      "  \"this warning.\", FutureWarning)\n",
      "C:\\Users\\riskh\\Anaconda3\\lib\\site-packages\\sklearn\\ensemble\\forest.py:248: FutureWarning: The default value of n_estimators will change from 10 in version 0.20 to 100 in 0.22.\n",
      "  \"10 in version 0.20 to 100 in 0.22.\", FutureWarning)\n",
      "C:\\Users\\riskh\\Anaconda3\\lib\\site-packages\\sklearn\\svm\\base.py:922: ConvergenceWarning: Liblinear failed to converge, increase the number of iterations.\n",
      "  \"the number of iterations.\", ConvergenceWarning)\n",
      "C:\\Users\\riskh\\Anaconda3\\lib\\site-packages\\sklearn\\linear_model\\logistic.py:432: FutureWarning: Default solver will be changed to 'lbfgs' in 0.22. Specify a solver to silence this warning.\n",
      "  FutureWarning)\n",
      "C:\\Users\\riskh\\Anaconda3\\lib\\site-packages\\sklearn\\linear_model\\logistic.py:459: FutureWarning: Default multi_class will be changed to 'auto' in 0.22. Specify the multi_class option to silence this warning.\n",
      "  \"this warning.\", FutureWarning)\n",
      "C:\\Users\\riskh\\Anaconda3\\lib\\site-packages\\sklearn\\ensemble\\forest.py:248: FutureWarning: The default value of n_estimators will change from 10 in version 0.20 to 100 in 0.22.\n",
      "  \"10 in version 0.20 to 100 in 0.22.\", FutureWarning)\n",
      "C:\\Users\\riskh\\Anaconda3\\lib\\site-packages\\sklearn\\svm\\base.py:922: ConvergenceWarning: Liblinear failed to converge, increase the number of iterations.\n",
      "  \"the number of iterations.\", ConvergenceWarning)\n",
      "C:\\Users\\riskh\\Anaconda3\\lib\\site-packages\\sklearn\\linear_model\\logistic.py:432: FutureWarning: Default solver will be changed to 'lbfgs' in 0.22. Specify a solver to silence this warning.\n",
      "  FutureWarning)\n",
      "C:\\Users\\riskh\\Anaconda3\\lib\\site-packages\\sklearn\\linear_model\\logistic.py:459: FutureWarning: Default multi_class will be changed to 'auto' in 0.22. Specify the multi_class option to silence this warning.\n",
      "  \"this warning.\", FutureWarning)\n",
      "C:\\Users\\riskh\\Anaconda3\\lib\\site-packages\\sklearn\\ensemble\\forest.py:248: FutureWarning: The default value of n_estimators will change from 10 in version 0.20 to 100 in 0.22.\n",
      "  \"10 in version 0.20 to 100 in 0.22.\", FutureWarning)\n",
      "C:\\Users\\riskh\\Anaconda3\\lib\\site-packages\\sklearn\\svm\\base.py:922: ConvergenceWarning: Liblinear failed to converge, increase the number of iterations.\n",
      "  \"the number of iterations.\", ConvergenceWarning)\n",
      "C:\\Users\\riskh\\Anaconda3\\lib\\site-packages\\sklearn\\linear_model\\logistic.py:432: FutureWarning: Default solver will be changed to 'lbfgs' in 0.22. Specify a solver to silence this warning.\n",
      "  FutureWarning)\n",
      "C:\\Users\\riskh\\Anaconda3\\lib\\site-packages\\sklearn\\linear_model\\logistic.py:459: FutureWarning: Default multi_class will be changed to 'auto' in 0.22. Specify the multi_class option to silence this warning.\n",
      "  \"this warning.\", FutureWarning)\n",
      "C:\\Users\\riskh\\Anaconda3\\lib\\site-packages\\sklearn\\ensemble\\forest.py:248: FutureWarning: The default value of n_estimators will change from 10 in version 0.20 to 100 in 0.22.\n",
      "  \"10 in version 0.20 to 100 in 0.22.\", FutureWarning)\n",
      "C:\\Users\\riskh\\Anaconda3\\lib\\site-packages\\sklearn\\svm\\base.py:922: ConvergenceWarning: Liblinear failed to converge, increase the number of iterations.\n",
      "  \"the number of iterations.\", ConvergenceWarning)\n",
      "C:\\Users\\riskh\\Anaconda3\\lib\\site-packages\\sklearn\\linear_model\\logistic.py:432: FutureWarning: Default solver will be changed to 'lbfgs' in 0.22. Specify a solver to silence this warning.\n",
      "  FutureWarning)\n",
      "C:\\Users\\riskh\\Anaconda3\\lib\\site-packages\\sklearn\\linear_model\\logistic.py:459: FutureWarning: Default multi_class will be changed to 'auto' in 0.22. Specify the multi_class option to silence this warning.\n",
      "  \"this warning.\", FutureWarning)\n",
      "C:\\Users\\riskh\\Anaconda3\\lib\\site-packages\\sklearn\\ensemble\\forest.py:248: FutureWarning: The default value of n_estimators will change from 10 in version 0.20 to 100 in 0.22.\n",
      "  \"10 in version 0.20 to 100 in 0.22.\", FutureWarning)\n",
      "C:\\Users\\riskh\\Anaconda3\\lib\\site-packages\\sklearn\\svm\\base.py:922: ConvergenceWarning: Liblinear failed to converge, increase the number of iterations.\n",
      "  \"the number of iterations.\", ConvergenceWarning)\n",
      "C:\\Users\\riskh\\Anaconda3\\lib\\site-packages\\sklearn\\linear_model\\logistic.py:432: FutureWarning: Default solver will be changed to 'lbfgs' in 0.22. Specify a solver to silence this warning.\n",
      "  FutureWarning)\n",
      "C:\\Users\\riskh\\Anaconda3\\lib\\site-packages\\sklearn\\linear_model\\logistic.py:459: FutureWarning: Default multi_class will be changed to 'auto' in 0.22. Specify the multi_class option to silence this warning.\n",
      "  \"this warning.\", FutureWarning)\n",
      "C:\\Users\\riskh\\Anaconda3\\lib\\site-packages\\sklearn\\ensemble\\forest.py:248: FutureWarning: The default value of n_estimators will change from 10 in version 0.20 to 100 in 0.22.\n",
      "  \"10 in version 0.20 to 100 in 0.22.\", FutureWarning)\n",
      "C:\\Users\\riskh\\Anaconda3\\lib\\site-packages\\sklearn\\svm\\base.py:922: ConvergenceWarning: Liblinear failed to converge, increase the number of iterations.\n",
      "  \"the number of iterations.\", ConvergenceWarning)\n",
      "C:\\Users\\riskh\\Anaconda3\\lib\\site-packages\\sklearn\\linear_model\\logistic.py:432: FutureWarning: Default solver will be changed to 'lbfgs' in 0.22. Specify a solver to silence this warning.\n",
      "  FutureWarning)\n",
      "C:\\Users\\riskh\\Anaconda3\\lib\\site-packages\\sklearn\\linear_model\\logistic.py:459: FutureWarning: Default multi_class will be changed to 'auto' in 0.22. Specify the multi_class option to silence this warning.\n",
      "  \"this warning.\", FutureWarning)\n"
     ]
    },
    {
     "name": "stderr",
     "output_type": "stream",
     "text": [
      "C:\\Users\\riskh\\Anaconda3\\lib\\site-packages\\sklearn\\ensemble\\forest.py:248: FutureWarning: The default value of n_estimators will change from 10 in version 0.20 to 100 in 0.22.\n",
      "  \"10 in version 0.20 to 100 in 0.22.\", FutureWarning)\n"
     ]
    },
    {
     "name": "stdout",
     "output_type": "stream",
     "text": [
      "0.00045\n"
     ]
    },
    {
     "name": "stderr",
     "output_type": "stream",
     "text": [
      "C:\\Users\\riskh\\Anaconda3\\lib\\site-packages\\sklearn\\svm\\base.py:922: ConvergenceWarning: Liblinear failed to converge, increase the number of iterations.\n",
      "  \"the number of iterations.\", ConvergenceWarning)\n"
     ]
    }
   ],
   "source": [
    "results_usps = model_selection.cross_val_score(ensemble, USPSMat, USPSTar, cv=kfold)\n",
    "#print(results_usps.mean())"
   ]
  },
  {
   "cell_type": "code",
   "execution_count": null,
   "metadata": {},
   "outputs": [],
   "source": []
  }
 ],
 "metadata": {
  "kernelspec": {
   "display_name": "Python 3",
   "language": "python",
   "name": "python3"
  },
  "language_info": {
   "codemirror_mode": {
    "name": "ipython",
    "version": 3
   },
   "file_extension": ".py",
   "mimetype": "text/x-python",
   "name": "python",
   "nbconvert_exporter": "python",
   "pygments_lexer": "ipython3",
   "version": "3.6.6"
  }
 },
 "nbformat": 4,
 "nbformat_minor": 2
}
